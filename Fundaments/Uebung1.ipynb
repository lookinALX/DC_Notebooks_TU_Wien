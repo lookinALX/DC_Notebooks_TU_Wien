{
 "cells": [
  {
   "cell_type": "markdown",
   "id": "e23a9392-d6a4-436f-aa15-b11db1d4d24e",
   "metadata": {
    "deletable": false,
    "editable": false,
    "nbgrader": {
     "cell_type": "markdown",
     "checksum": "8937f2e00a800085d50d6acc1f23e13a",
     "grade": false,
     "grade_id": "cell-5744a0275921994f",
     "locked": true,
     "schema_version": 3,
     "solution": false,
     "task": false
    },
    "slideshow": {
     "slide_type": ""
    },
    "tags": []
   },
   "source": [
    "# Übungsblatt 1 (Fundamentals) - Grundkonzepte der Datenanalyse und Visualisierung WS 2024/25\n",
    "\n",
    "Zweck des Übungsblattes ist es, mit der Verwendung der Jupyter-Notebooks vertraut zu werden, sowie den Umgang mit DataFrames in Pandas zu üben."
   ]
  },
  {
   "cell_type": "markdown",
   "id": "e6060dd2-c750-46a6-b3ed-c63f105a87c7",
   "metadata": {
    "deletable": false,
    "editable": false,
    "nbgrader": {
     "cell_type": "markdown",
     "checksum": "19802fc2f517ce705b6599bc22994332",
     "grade": false,
     "grade_id": "cell-689689b168a99384",
     "locked": true,
     "schema_version": 3,
     "solution": false,
     "task": false
    }
   },
   "source": [
    "Jupyter-Notebooks beginnen üblicherweise mit dem Import der benötigten Python Bibliotheken. \n",
    "Wir werden das in der Übung auch so handhaben.\n",
    "Verwenden Sie daher die nächste Zelle, um die benötigten Bibliotheken zu importieren."
   ]
  },
  {
   "cell_type": "code",
   "execution_count": 4,
   "id": "40c37301-777c-41ed-baa3-1e8396ce13e8",
   "metadata": {
    "deletable": false,
    "nbgrader": {
     "cell_type": "code",
     "checksum": "f396c04dc173744588657b8257a22c33",
     "grade": false,
     "grade_id": "cell-a9c82d21abf813e6",
     "locked": false,
     "schema_version": 3,
     "solution": true,
     "task": false
    },
    "revert": "# Importieren Sie hier die verwendeten Python Bibliotheken.\n# Halten Sie sich dabei an die üblichen Konventionen.\n# \n# Importieren Sie auf jeden Fall Pandas und NumPy.\n# Gerne dürfen Sie auch weitere Bibliotheken importieren.\n\n# YOUR CODE HERE\nraise NotImplementedError()"
   },
   "outputs": [],
   "source": [
    "# Importieren Sie hier die verwendeten Python Bibliotheken.\n",
    "# Halten Sie sich dabei an die üblichen Konventionen.\n",
    "# \n",
    "# Importieren Sie auf jeden Fall Pandas und NumPy.\n",
    "# Gerne dürfen Sie auch weitere Bibliotheken importieren.\n",
    "\n",
    "import pandas as pd\n",
    "import numpy as np"
   ]
  },
  {
   "cell_type": "markdown",
   "id": "49e5b6f3-abf9-41aa-a331-35acdfb11afb",
   "metadata": {
    "deletable": false,
    "editable": false,
    "nbgrader": {
     "cell_type": "markdown",
     "checksum": "a63666ebdabcef685e1c120bf89628f8",
     "grade": false,
     "grade_id": "cell-99eed7b8d9abd099",
     "locked": true,
     "schema_version": 3,
     "solution": false,
     "task": false
    }
   },
   "source": [
    "_Hinweis:_ Vergessen Sie nicht, diese Zelle immer auszuführen, nachdem Sie den Kernel (neu) gestartet haben."
   ]
  },
  {
   "cell_type": "markdown",
   "id": "752c242a-a26b-4060-88a8-f53ac90b355c",
   "metadata": {
    "deletable": false,
    "editable": false,
    "nbgrader": {
     "cell_type": "markdown",
     "checksum": "aaadc4227974b2a4f2d334389cdb4dfb",
     "grade": false,
     "grade_id": "cell-2f5b3dea91bcc854",
     "locked": true,
     "schema_version": 3,
     "solution": false,
     "task": false
    }
   },
   "source": [
    "Sie werden die hier vorliegende Struktur in den Übungs-Notebooks öfters finden: Zuerst eine Zelle, in welcher Sie die Lösung zu einer Aufgabenstellung eingeben, gefolgt von einer Zelle welche ein paar Testfälle enthält."
   ]
  },
  {
   "cell_type": "code",
   "execution_count": 5,
   "id": "48a7168d-6f70-446d-8943-e7fcfc606ba7",
   "metadata": {
    "deletable": false,
    "editable": false,
    "nbgrader": {
     "cell_type": "code",
     "checksum": "7a524c8f7f73d70d0ed8b9c18ecdb999",
     "grade": true,
     "grade_id": "cell-b557e0067d0dd4dd",
     "locked": true,
     "points": 0.5,
     "schema_version": 3,
     "solution": false,
     "task": false
    }
   },
   "outputs": [],
   "source": [
    "# Ein Test ob Pandas und NumPy richtig importiert wurden\n",
    "assert type(pd.Series) == type, f'Cannot verify type of pd.Series - is {type(pd.Series)}'\n",
    "assert np.pi<22/7, f'np.pi seems to have the wrong value - is {np.pi}'\n"
   ]
  },
  {
   "cell_type": "markdown",
   "id": "11b1bf22-c7d5-4cce-a558-e42ca722d77f",
   "metadata": {
    "deletable": false,
    "editable": false,
    "nbgrader": {
     "cell_type": "markdown",
     "checksum": "d1d27a6f7162c417a2daa06eae8ef7b6",
     "grade": false,
     "grade_id": "cell-2dbcff2979fd56f0",
     "locked": true,
     "schema_version": 3,
     "solution": false,
     "task": false
    }
   },
   "source": [
    "_Hinweis 1:_ Nur weil es bei den angegebenen Testfällen zu keinen Fehlern kommt, muss dies nicht heißen, dass die Lösung richtig ist. ;-) Wir testen Ihre Abgaben einerseits mit weiteren Testfällen, aber werfen andererseits auch einen Blick auf die Lösung. Für die Bewertung zählt die _Korrektheit_ der Lösung.\n",
    "\n",
    "_Hinweis 2:_ Sie dürfen sich gerne zusätzliche Testfälle/Ausgaben überlegen.\n",
    "\n",
    "_Anmerkungen zu Konventionen in der Angabe:_<br/>\n",
    "Zwei Anmerkungen zu Konventionen, welche wir in den Angaben (versuchen) einzuhalten, die in der Vergangenheit zu Fragen geführt haben. Bitte beachten Sie, dass Sie diesen **nicht** folgen müssen. Sie sind dazu gedacht, einige Aspekte der Angabe hervorzuheben.\n",
    "\n",
    "* Verwendung von ```' '``` und ```\" \"``` für Strings: Grundsätzlich verwenden wir ```' '``` für Strings. Ausnahme sind Namen von Merkmalen. Um diese als solche zu kennzeichnen verwenden wir hier ```\" \"```.\n",
    "* Variablennamen von DataFrames: Um klarer abzugrenzen, welche Variablen ein DataFrame enthalten und welche nicht, beginnen die Namen aller Variablen die ein DataFrame enthalten mit ```df_```."
   ]
  },
  {
   "cell_type": "markdown",
   "id": "ccf5461a-9413-4f86-b598-30b38d031c43",
   "metadata": {
    "deletable": false,
    "editable": false,
    "nbgrader": {
     "cell_type": "markdown",
     "checksum": "17e5e25944ffa47b8e6fdee7911aef17",
     "grade": false,
     "grade_id": "cell-fd5716b445020cd4",
     "locked": true,
     "schema_version": 3,
     "solution": false,
     "task": false
    }
   },
   "source": [
    "## Koffein- und Kaloriengehalt von Getränken\n",
    "\n",
    "Noch einmal Herzlich Willkommen zur Übung in DAV. Am Beginn machen wir es uns einmal bequem und nehmen uns etwas zu trinken.\n",
    "\n",
    "Der erste Datensatz, an dem wir ein paar grundlegende Funktionen von Pandas DataFrames ausprobieren wollen, enthält Informationen über den Koffein- und Kaloriengehalt verschiedener im (US-) Handel erhältlicher Getränke.\n",
    "\n",
    "**Beschreibung der Daten:**\n",
    "\n",
    "* __Drink__ Der (Marken)name des Getränks\n",
    "* __Volume (ml)__ Die Verpackungsgröße, in welcher das Getränk verkauft wird, bzw. (bei Tee oder Kaffee zum selber Aufgießen) die typische/vorgeschlagene Menge (in ml)\n",
    "* __Calories__ Die Gesamtmenge an Kalorien in einer Packung des Getränks (keine Einheit angegeben, vmtl. in Kalorien)\n",
    "* __Caffeine (mg)__ Die Gesamtmenge an Koffein in einer Packung des Getränks (in mg)\n",
    "* __Type__ Eine Klassifikation des Getränks (Kaffee, Energy Drink, Wasser, ...)\n",
    "\n",
    "**Quelle:**\n",
    "\n",
    "Wir verwenden den auf [kaggle (hier)](https://www.kaggle.com/datasets/heitornunes/caffeine-content-of-drinks) verfügbaren Datensatz. Die ursprüngliche Quelle der Daten wird dort jedoch als [https://www.caffeineinformer.com/the-caffeine-database](https://www.caffeineinformer.com/the-caffeine-database) angegeben. Die Korrektheit der Daten - und inwieweit sie auch auf die in Österreich verkauften Versionen der selben Getränke anwendbar sind - konnte von uns nicht überprüft werden. Die etwas komisch anmutenden Werte für das Volumen dürften sich daraus ergeben, dass in den Originaldaten das Volumen in *floz* angegeben wird (der Datensatz stammt aus den USA) und in der von uns verwendeten Version in *ml* umgerechnet wurde. \n",
    "\n"
   ]
  },
  {
   "cell_type": "markdown",
   "id": "50349d19-167e-4311-839b-ad0380adbc67",
   "metadata": {
    "deletable": false,
    "editable": false,
    "nbgrader": {
     "cell_type": "markdown",
     "checksum": "d2f0bfe7b3858a1af3eaa22123c6821e",
     "grade": false,
     "grade_id": "cell-2c76832b8d806c96",
     "locked": true,
     "schema_version": 3,
     "solution": false,
     "task": false
    }
   },
   "source": [
    "### Datensatz laden und Struktur der Daten"
   ]
  },
  {
   "cell_type": "code",
   "execution_count": 6,
   "id": "cb7a0dcd-6c81-4228-8f9f-529355fc4578",
   "metadata": {
    "deletable": false,
    "nbgrader": {
     "cell_type": "code",
     "checksum": "e1bca13ad2e5bdac0da17879df036a76",
     "grade": false,
     "grade_id": "cell-4aeffde9a83965ea",
     "locked": false,
     "schema_version": 3,
     "solution": true,
     "task": false
    },
    "revert": "# Laden Sie die in 'path_drinks' referenzierte csv Datei in ein DataFrame.\n# Speichern Sie eine Referenz auf dieses DataFrame in der Variable 'df_drinks' ab.\n\npath_drinks = 'CaffeineContent.csv'\n\n# YOUR CODE HERE\nraise NotImplementedError()\n\ndf_drinks"
   },
   "outputs": [
    {
     "name": "stdout",
     "output_type": "stream",
     "text": [
      "                           Drink  Volume (ml)  Calories  Caffeine (mg)    Type\n",
      "0                   Costa Coffee   256.993715         0            277  Coffee\n",
      "1    Coffee Friend Brewed Coffee   250.191810         0            145  Coffee\n",
      "2             Hell Energy Coffee   250.191810       150            100  Coffee\n",
      "3             Killer Coffee (AU)   250.191810         0            430  Coffee\n",
      "4                   Nescafe Gold   250.191810         0             66  Coffee\n",
      "..                           ...          ...       ...            ...     ...\n",
      "605     Pep Talk Sparkling Water   354.882000         0             55   Water\n",
      "606          Polar Seltzer Water   354.882000         0              0   Water\n",
      "607       Yerbae Sparkling Water   354.882000         0            100   Water\n",
      "608                  Tonic Water   295.735000       110              0   Water\n",
      "609    MiO Energy Water Enhancer   236.588000         0             60   Water\n",
      "\n",
      "[610 rows x 5 columns]\n"
     ]
    }
   ],
   "source": [
    "# Laden Sie die in 'path_drinks' referenzierte csv Datei in ein DataFrame.\n",
    "# Speichern Sie eine Referenz auf dieses DataFrame in der Variable 'df_drinks' ab.\n",
    "\n",
    "path_drinks = 'CaffeineContent.csv'\n",
    "\n",
    "df_drinks = pd.read_csv(path_drinks)\n",
    "print(df_drinks)"
   ]
  },
  {
   "cell_type": "code",
   "execution_count": 7,
   "id": "42a1ec56-8c48-4ef5-b3af-998ac3697253",
   "metadata": {
    "deletable": false,
    "editable": false,
    "nbgrader": {
     "cell_type": "code",
     "checksum": "78d65a4dda986fe063e5c7285dcb300e",
     "grade": true,
     "grade_id": "cell-a932e2308603e7fa",
     "locked": true,
     "points": 0.5,
     "schema_version": 3,
     "solution": false,
     "task": false
    }
   },
   "outputs": [],
   "source": [
    "# Ein paar simple Tests, ob die Daten korrekt geladen wurden\n",
    "# (nicht ausreichend um zu garantieren, dass die Daten richtig geladen wurden :-) )\n",
    "\n",
    "assert type(df_drinks) == pd.core.frame.DataFrame, f'df_drinks kein pandas DataFrame {type(df_drinks)}'\n",
    "assert type(df_drinks[\"Volume (ml)\"]) == pd.core.frame.Series, f'Merkmal \"Volume (ml)\" fehlt oder falsche Struktur: {type(df_weather_wien[\"Volume (ml)\"])}'\n",
    "assert df_drinks[\"Volume (ml)\"].dtype == np.float64, f'Daten von Merkmal \"Volume (ml)\" haben falschen Datentyp {df_drinks[\"Volume (ml)\"].dtype}'\n",
    "assert type(df_drinks[\"Caffeine (mg)\"]) == pd.core.frame.Series, f'Merkmal \"Caffeine (mg)\" fehlt oder falsche Struktur: {type(df_weather_wien[\"Caffeine (mg)\"])}'\n",
    "assert df_drinks[\"Caffeine (mg)\"].dtype == np.int64, f'Daten von Merkmal \"Caffeine (mg)\" haben falschen Datentyp {df_drinks[\"Caffeine (mg)\"].dtype}'\n",
    "\n"
   ]
  },
  {
   "cell_type": "markdown",
   "id": "dc2c1295-cb72-44f2-992e-8085ed815840",
   "metadata": {
    "deletable": false,
    "editable": false,
    "nbgrader": {
     "cell_type": "markdown",
     "checksum": "245ec53d966bb6a075069e7460b6bdb8",
     "grade": false,
     "grade_id": "cell-1dc50810bab404fd",
     "locked": true,
     "schema_version": 3,
     "solution": false,
     "task": false
    }
   },
   "source": [
    "Bei der Arbeit mit einem neuen Datensatz ist es zuerst einmal wichtig, ein grobes Gefühl für die Struktur und den Inhalt der Daten zu bekommen. Einen ersten Schritt in diese Richtung haben wir schon getan, indem wir die Zelle, in welcher wir den Datensatz geladen haben, mit ```df_drinks``` beendet haben. Dadurch wird ein Ausschnitt der Daten angezeigt. Das gibt uns ein grobes, intuitives Verständnis für die Daten - welche Merkmale gibt es, was für Typen von Werten besitzen diese. Im nächsten Schritt ist es meist eine gute Idee zu überprüfen, ob die Intuition der Datentypen auch stimmt - bzw. zu überprüfen ob Pandas die Daten auch so interpretieren kann wie wir das vermuten (es können z.B. bei vermeintlich numerischen Merkmalen Probleme auftreten, so dass diese nicht als Zahlen sondern als String interpretiert werden, etc.). Eine schnelle, grobe Überprüfung erlaubt die Methode ```DataFrame.info()```."
   ]
  },
  {
   "cell_type": "code",
   "execution_count": 8,
   "id": "026a363c-a45f-483f-98d4-5071829b6a21",
   "metadata": {
    "deletable": false,
    "editable": false,
    "nbgrader": {
     "cell_type": "code",
     "checksum": "fea13695d1f470239e57fa8833b334d6",
     "grade": false,
     "grade_id": "cell-c330e8bd33711cb8",
     "locked": true,
     "schema_version": 3,
     "solution": false,
     "task": false
    }
   },
   "outputs": [
    {
     "name": "stdout",
     "output_type": "stream",
     "text": [
      "<class 'pandas.core.frame.DataFrame'>\n",
      "RangeIndex: 610 entries, 0 to 609\n",
      "Data columns (total 5 columns):\n",
      " #   Column         Non-Null Count  Dtype  \n",
      "---  ------         --------------  -----  \n",
      " 0   Drink          610 non-null    object \n",
      " 1   Volume (ml)    610 non-null    float64\n",
      " 2   Calories       610 non-null    int64  \n",
      " 3   Caffeine (mg)  610 non-null    int64  \n",
      " 4   Type           610 non-null    object \n",
      "dtypes: float64(1), int64(2), object(2)\n",
      "memory usage: 24.0+ KB\n"
     ]
    }
   ],
   "source": [
    "df_drinks.info()"
   ]
  },
  {
   "cell_type": "markdown",
   "id": "5830cf89-56ee-4fdd-abf1-929f4df8a1c7",
   "metadata": {
    "deletable": false,
    "editable": false,
    "nbgrader": {
     "cell_type": "markdown",
     "checksum": "9c60f3b0dd9071bcce329adc926bd614",
     "grade": false,
     "grade_id": "cell-7051d0daaac04431",
     "locked": true,
     "schema_version": 3,
     "solution": false,
     "task": false
    }
   },
   "source": [
    "Neben den Datentypen sehen wir auch, dass der Datensatz keine fehlenden Werte enthält.\n",
    "\n",
    "_Stimmen die hier gezeigten Datentypen mit Ihren Erwartungen überein? (Sie müssen keine Antwort abgeben, aber überlegen Sie es sich trotzdem)_"
   ]
  },
  {
   "cell_type": "markdown",
   "id": "9a4b3569-5607-47ab-b2a7-5262a5a3dbdd",
   "metadata": {
    "deletable": false,
    "editable": false,
    "nbgrader": {
     "cell_type": "markdown",
     "checksum": "4bf38918ae98e3b27bfe05b020d265c6",
     "grade": false,
     "grade_id": "cell-968980d20fd7d3ee",
     "locked": true,
     "schema_version": 3,
     "solution": false,
     "task": false
    }
   },
   "source": [
    "### Getränketypen und deren Eigenschaften (Einfache Pivot-Tabellen)\n",
    "\n",
    "Die Getränke des Datensatzes sind in Kategorien (Merkmal __Type__) unterteilt. Um den Datensatz weiter zu verstehen, untersuchen wir zuerst die verschiedenen Getränkekategorien."
   ]
  },
  {
   "cell_type": "markdown",
   "id": "e1a98534-4efa-4d99-abab-f028a9525e11",
   "metadata": {
    "deletable": false,
    "editable": false,
    "nbgrader": {
     "cell_type": "markdown",
     "checksum": "512d3f0cc193eb7d18c6425e0bfbffbd",
     "grade": false,
     "grade_id": "cell-65a2b63e018d8cb9",
     "locked": true,
     "schema_version": 3,
     "solution": false,
     "task": false
    }
   },
   "source": [
    "In einem ersten Schritt berechnen wir, welche Kategorien es eigentlich gibt und wie viele Getränke zu jeder Kategorie gehören."
   ]
  },
  {
   "cell_type": "code",
   "execution_count": 9,
   "id": "de866e02-89f0-4f20-a36a-335870e5db57",
   "metadata": {
    "deletable": false,
    "nbgrader": {
     "cell_type": "code",
     "checksum": "d41976eca8b408bb1805d8391d27f6e7",
     "grade": false,
     "grade_id": "cell-5a44e15f2cf5e349",
     "locked": false,
     "schema_version": 3,
     "solution": true,
     "task": false
    },
    "revert": "# Erstellen Sie eine Pivot-Tabelle, welche für jede Kategorie (als Zeilen) die Anzahl \n# der zugehörigen Getränke enthält. \n# (Der Merkmalsname soll \"Drink\" sein).\n# Speichern Sie eine Referenz auf diese Pivot-Tabelle in der Variablen 'df_num_types' ab.\n\n# YOUR CODE HERE\nraise NotImplementedError()\n\ndf_num_types"
   },
   "outputs": [
    {
     "name": "stdout",
     "output_type": "stream",
     "text": [
      "               Drink\n",
      "Type                \n",
      "Coffee           173\n",
      "Energy Drinks    219\n",
      "Energy Shots      36\n",
      "Soft Drinks       90\n",
      "Tea               66\n",
      "Water             26\n"
     ]
    }
   ],
   "source": [
    "# Erstellen Sie eine Pivot-Tabelle, welche für jede Kategorie (als Zeilen) die Anzahl \n",
    "# der zugehörigen Getränke enthält. \n",
    "# (Der Merkmalsname soll \"Drink\" sein).\n",
    "# Speichern Sie eine Referenz auf diese Pivot-Tabelle in der Variablen 'df_num_types' ab.\n",
    "\n",
    "df_num_types = df_drinks.pivot_table(values='Drink', index='Type', aggfunc='count')\n",
    "print (df_num_types)"
   ]
  },
  {
   "cell_type": "code",
   "execution_count": 10,
   "id": "3ee5b58f-3f80-4106-9af4-2b172b42dac3",
   "metadata": {
    "deletable": false,
    "editable": false,
    "nbgrader": {
     "cell_type": "code",
     "checksum": "af7370d9825f2a39bb50635cb6dc7e85",
     "grade": true,
     "grade_id": "cell-55acca5bab8534ad",
     "locked": true,
     "points": 0.5,
     "schema_version": 3,
     "solution": false,
     "task": false
    }
   },
   "outputs": [],
   "source": [
    "assert type(df_num_types) == pd.core.frame.DataFrame, f'df_num_types kein pandas DataFrame {type(df_drinks)}'\n",
    "assert type(df_num_types[\"Drink\"]) == pd.core.frame.Series, f'Merkmal \"Drink\" fehlt oder falsche Struktur: type(df_num_types[\"Drink\"])'\n",
    "assert df_num_types[\"Drink\"].dtype == np.int64, f'Daten von Merkmal \"Drink\" haben falschen Datentyp {df_num_types[\"Drink\"].dtype}'\n",
    "assert len(df_num_types.columns) == 1, f'df_num_types hat falche Anzahl an Merkmalen {len(df_num_types.columns)}'\n",
    "assert len(df_num_types.index) == 6, f'df_num_types hat falche Anzahl an Einträgen {len(df_num_types.index)}'\n",
    "\n"
   ]
  },
  {
   "cell_type": "markdown",
   "id": "98300a9c-5131-4fdc-9eb7-fe75b2e1dab6",
   "metadata": {
    "deletable": false,
    "editable": false,
    "nbgrader": {
     "cell_type": "markdown",
     "checksum": "f859856ed89d99fb61f000d4a541c31f",
     "grade": false,
     "grade_id": "cell-aee597dfe81ab554",
     "locked": true,
     "schema_version": 3,
     "solution": false,
     "task": false
    }
   },
   "source": [
    "Unser eigentliches Ziel ist es, etwas über den Koffeingehalt der Getränke zu erfahren. Daher berechnen wir als nächstes für jede Kategorie sowohl den durchschnittlichen, als auch den maximalen Koffeingehalt pro Getränk.\n",
    "\n",
    "Die Tabelle sollte folgende Struktur haben:\n",
    "\n",
    "<img src=\"img/StructurePivotTable.png\" alt=\"Beispiel für Struktur der Tabelle\"  width=\"320\"/>"
   ]
  },
  {
   "cell_type": "code",
   "execution_count": 11,
   "id": "328e1d08-005e-42bd-83a8-c5ff09d0256a",
   "metadata": {
    "deletable": false,
    "nbgrader": {
     "cell_type": "code",
     "checksum": "33c94a157caa7e65f7202f75de6771f9",
     "grade": false,
     "grade_id": "cell-26187972fa8b8e9a",
     "locked": false,
     "schema_version": 3,
     "solution": true,
     "task": false
    },
    "revert": "# Erstellen Sie eine Pivot-Tabelle, welche für jede Kategorie (als Zeile) sowohl \n# den durchschnittlichen, als auch den maximalen Koffeingehalt pro Getränkt enthält.\n# Speichern Sie eine Referenz auf diese Pivot-Tabelle in der Variablen 'df_cat_caffeine' ab.\n\n# YOUR CODE HERE\nraise NotImplementedError()\n\ndf_cat_caffeine"
   },
   "outputs": [
    {
     "data": {
      "text/html": [
       "<div>\n",
       "<style scoped>\n",
       "    .dataframe tbody tr th:only-of-type {\n",
       "        vertical-align: middle;\n",
       "    }\n",
       "\n",
       "    .dataframe tbody tr th {\n",
       "        vertical-align: top;\n",
       "    }\n",
       "\n",
       "    .dataframe thead tr th {\n",
       "        text-align: left;\n",
       "    }\n",
       "\n",
       "    .dataframe thead tr:last-of-type th {\n",
       "        text-align: right;\n",
       "    }\n",
       "</style>\n",
       "<table border=\"1\" class=\"dataframe\">\n",
       "  <thead>\n",
       "    <tr>\n",
       "      <th></th>\n",
       "      <th>mean</th>\n",
       "      <th>max</th>\n",
       "    </tr>\n",
       "    <tr>\n",
       "      <th></th>\n",
       "      <th>Caffeine (mg)</th>\n",
       "      <th>Caffeine (mg)</th>\n",
       "    </tr>\n",
       "    <tr>\n",
       "      <th>Type</th>\n",
       "      <th></th>\n",
       "      <th></th>\n",
       "    </tr>\n",
       "  </thead>\n",
       "  <tbody>\n",
       "    <tr>\n",
       "      <th>Coffee</th>\n",
       "      <td>200.589595</td>\n",
       "      <td>1555</td>\n",
       "    </tr>\n",
       "    <tr>\n",
       "      <th>Energy Drinks</th>\n",
       "      <td>147.867580</td>\n",
       "      <td>400</td>\n",
       "    </tr>\n",
       "    <tr>\n",
       "      <th>Energy Shots</th>\n",
       "      <td>193.416667</td>\n",
       "      <td>350</td>\n",
       "    </tr>\n",
       "    <tr>\n",
       "      <th>Soft Drinks</th>\n",
       "      <td>33.677778</td>\n",
       "      <td>102</td>\n",
       "    </tr>\n",
       "    <tr>\n",
       "      <th>Tea</th>\n",
       "      <td>55.863636</td>\n",
       "      <td>165</td>\n",
       "    </tr>\n",
       "  </tbody>\n",
       "</table>\n",
       "</div>"
      ],
      "text/plain": [
       "                       mean           max\n",
       "              Caffeine (mg) Caffeine (mg)\n",
       "Type                                     \n",
       "Coffee           200.589595          1555\n",
       "Energy Drinks    147.867580           400\n",
       "Energy Shots     193.416667           350\n",
       "Soft Drinks       33.677778           102\n",
       "Tea               55.863636           165"
      ]
     },
     "execution_count": 11,
     "metadata": {},
     "output_type": "execute_result"
    }
   ],
   "source": [
    "# Erstellen Sie eine Pivot-Tabelle, welche für jede Kategorie (als Zeile) sowohl \n",
    "# den durchschnittlichen, als auch den maximalen Koffeingehalt pro Getränkt enthält.\n",
    "# Speichern Sie eine Referenz auf diese Pivot-Tabelle in der Variablen 'df_cat_caffeine' ab.\n",
    "\n",
    "df_cat_caffeine = df_drinks.pivot_table(index='Type', values='Caffeine (mg)', aggfunc=['mean', 'max'])\n",
    "df_cat_caffeine.head()"
   ]
  },
  {
   "cell_type": "code",
   "execution_count": 12,
   "id": "fbe46474-9f71-4675-a71d-af20cbbb4897",
   "metadata": {
    "deletable": false,
    "editable": false,
    "nbgrader": {
     "cell_type": "code",
     "checksum": "78cfa2ff23b971fb39cdcdf98a9e6a46",
     "grade": true,
     "grade_id": "cell-6bc0fdf6069e4ee7",
     "locked": true,
     "points": 0.5,
     "schema_version": 3,
     "solution": false,
     "task": false
    }
   },
   "outputs": [],
   "source": [
    "assert type(df_cat_caffeine) == pd.core.frame.DataFrame, f'df_cat_caffeine kein pandas DataFrame {type(df_drinks)}'\n",
    "assert type(df_cat_caffeine[(\"mean\", \"Caffeine (mg)\")]) == pd.core.frame.Series, f'Merkmal (\"mean\", \"Caffeine (mg)\") fehlt oder falsche Struktur: type(df_cat_caffeine[(\"mean\", \"Caffeine (mg)\")])'\n",
    "assert df_cat_caffeine[(\"mean\", \"Caffeine (mg)\")].dtype == float, f'Daten von Merkmal (\"mean\", \"Caffeine (mg)\") haben falschen Datentyp {df_cat_caffeine[(\"mean\", \"Caffeine (mg)\")].dtype}'\n",
    "assert len(df_cat_caffeine.columns) == 2, f'df_cat_caffeine hat falche Anzahl an Merkmalen {len(df_cat_caffeine.columns)}'\n",
    "assert len(df_cat_caffeine.index) == 6, f'df_cat_caffeine hat falche Anzahl an Einträgen {len(df_cat_caffeine.index)}'\n",
    "\n"
   ]
  },
  {
   "cell_type": "markdown",
   "id": "d7e5459d-7795-46e5-a50f-c0bf178b037c",
   "metadata": {
    "deletable": false,
    "editable": false,
    "nbgrader": {
     "cell_type": "markdown",
     "checksum": "1e508313552271d4f19d57ccfffddae2",
     "grade": false,
     "grade_id": "cell-ae7c3700dd7176e9",
     "locked": true,
     "schema_version": 3,
     "solution": false,
     "task": false
    }
   },
   "source": [
    "### Getränke mit definierten Eigenschaften finden (Daten aus einem DataFrame abfragen)"
   ]
  },
  {
   "cell_type": "markdown",
   "id": "61ad43a4-ad6f-4a82-99a7-0bd3e0cbc47a",
   "metadata": {
    "deletable": false,
    "editable": false,
    "nbgrader": {
     "cell_type": "markdown",
     "checksum": "c61fc5c62550400455df79712e6dcd30",
     "grade": false,
     "grade_id": "cell-69b6592b2534e93e",
     "locked": true,
     "schema_version": 3,
     "solution": false,
     "task": false
    }
   },
   "source": [
    "Dass \"Wasser\" im Schnitt mehr Koffein enthält als Soft Drinks ist unerwartet - ebenso wie ein Wasser mit 120mg Koffein. Was ist das für ein Getränk?"
   ]
  },
  {
   "cell_type": "code",
   "execution_count": 13,
   "id": "21670d7f-dcdb-4cac-9b96-e6fc6656083b",
   "metadata": {
    "deletable": false,
    "nbgrader": {
     "cell_type": "code",
     "checksum": "3eea8c7f30b18cd1db9e5a6b40243a76",
     "grade": false,
     "grade_id": "cell-35ea6a6f8f292f3b",
     "locked": false,
     "schema_version": 3,
     "solution": true,
     "task": false
    },
    "revert": "# Suchen Sie aus dem DataFrame 'df_drinks' alle Einträge (Zeilen) heraus, \n# die ein Getränk vom Typ 'Wasser' beschreiben und die 120mg Koffein enthalten.\n# Das Ergebnis soll wiederum ein DataFrame sein (beim Erwarteten \n# Lösungsweg kommt auf natürlichem Weg ein DataFrame heraus).\n# Speichern Sie eine Referenz auf dieses DataFrame in der Variablen \n# 'df_waking_waters' ab.\n\n# YOUR CODE HERE\nraise NotImplementedError()\n\ndf_waking_waters"
   },
   "outputs": [
    {
     "data": {
      "text/html": [
       "<div>\n",
       "<style scoped>\n",
       "    .dataframe tbody tr th:only-of-type {\n",
       "        vertical-align: middle;\n",
       "    }\n",
       "\n",
       "    .dataframe tbody tr th {\n",
       "        vertical-align: top;\n",
       "    }\n",
       "\n",
       "    .dataframe thead th {\n",
       "        text-align: right;\n",
       "    }\n",
       "</style>\n",
       "<table border=\"1\" class=\"dataframe\">\n",
       "  <thead>\n",
       "    <tr style=\"text-align: right;\">\n",
       "      <th></th>\n",
       "      <th>Drink</th>\n",
       "      <th>Volume (ml)</th>\n",
       "      <th>Calories</th>\n",
       "      <th>Caffeine (mg)</th>\n",
       "      <th>Type</th>\n",
       "    </tr>\n",
       "  </thead>\n",
       "  <tbody>\n",
       "    <tr>\n",
       "      <th>0</th>\n",
       "      <td>Costa Coffee</td>\n",
       "      <td>256.993715</td>\n",
       "      <td>0</td>\n",
       "      <td>277</td>\n",
       "      <td>Coffee</td>\n",
       "    </tr>\n",
       "    <tr>\n",
       "      <th>1</th>\n",
       "      <td>Coffee Friend Brewed Coffee</td>\n",
       "      <td>250.191810</td>\n",
       "      <td>0</td>\n",
       "      <td>145</td>\n",
       "      <td>Coffee</td>\n",
       "    </tr>\n",
       "    <tr>\n",
       "      <th>2</th>\n",
       "      <td>Hell Energy Coffee</td>\n",
       "      <td>250.191810</td>\n",
       "      <td>150</td>\n",
       "      <td>100</td>\n",
       "      <td>Coffee</td>\n",
       "    </tr>\n",
       "    <tr>\n",
       "      <th>3</th>\n",
       "      <td>Killer Coffee (AU)</td>\n",
       "      <td>250.191810</td>\n",
       "      <td>0</td>\n",
       "      <td>430</td>\n",
       "      <td>Coffee</td>\n",
       "    </tr>\n",
       "    <tr>\n",
       "      <th>4</th>\n",
       "      <td>Nescafe Gold</td>\n",
       "      <td>250.191810</td>\n",
       "      <td>0</td>\n",
       "      <td>66</td>\n",
       "      <td>Coffee</td>\n",
       "    </tr>\n",
       "  </tbody>\n",
       "</table>\n",
       "</div>"
      ],
      "text/plain": [
       "                         Drink  Volume (ml)  Calories  Caffeine (mg)    Type\n",
       "0                 Costa Coffee   256.993715         0            277  Coffee\n",
       "1  Coffee Friend Brewed Coffee   250.191810         0            145  Coffee\n",
       "2           Hell Energy Coffee   250.191810       150            100  Coffee\n",
       "3           Killer Coffee (AU)   250.191810         0            430  Coffee\n",
       "4                 Nescafe Gold   250.191810         0             66  Coffee"
      ]
     },
     "execution_count": 13,
     "metadata": {},
     "output_type": "execute_result"
    }
   ],
   "source": [
    "# Suchen Sie aus dem DataFrame 'df_drinks' alle Einträge (Zeilen) heraus, \n",
    "# die ein Getränk vom Typ 'Wasser' beschreiben und die 120mg Koffein enthalten.\n",
    "# Das Ergebnis soll wiederum ein DataFrame sein (beim Erwarteten \n",
    "# Lösungsweg kommt auf natürlichem Weg ein DataFrame heraus).\n",
    "# Speichern Sie eine Referenz auf dieses DataFrame in der Variablen \n",
    "# 'df_waking_waters' ab.\n",
    "\n",
    "df_waking_waters = df_drinks[(df_drinks['Type'] == \"Water\") & (df_drinks['Caffeine (mg)']==120)]\n",
    "df_drinks.head()"
   ]
  },
  {
   "cell_type": "code",
   "execution_count": 14,
   "id": "3c4e9c01-098b-4569-a905-8688cd361e1e",
   "metadata": {
    "deletable": false,
    "editable": false,
    "nbgrader": {
     "cell_type": "code",
     "checksum": "e3655f5cd0df6d4d20740ab74c4a2ca1",
     "grade": true,
     "grade_id": "cell-6ad64ae92c56d392",
     "locked": true,
     "points": 0.25,
     "schema_version": 3,
     "solution": false,
     "task": false
    }
   },
   "outputs": [],
   "source": [
    "assert type(df_waking_waters) == pd.core.frame.DataFrame, f'df_waking_waters kein pandas DataFrame {type(df_drinks)}'\n",
    "assert type(df_waking_waters[\"Drink\"]) == pd.core.frame.Series, f'Merkmal \"Drink\" fehlt oder falsche Struktur: {type(df_waking_waters[\"Drink\"])}'\n",
    "assert df_waking_waters[\"Volume (ml)\"].dtype == float, f'Daten von Merkmal \"Volume (ml)\" haben falschen Datentyp {df_waking_waters[(\"Volume (ml)\")].dtype}'\n",
    "assert len(df_waking_waters.columns) == 5, f'df_waking_waters hat falche Anzahl an Merkmalen {len(df_waking_waters.columns)}'\n",
    "assert len(df_waking_waters.index) == 1, f'df_waking_waters hat falche Anzahl an Einträgen {len(df_waking_waters.index)}'\n",
    "\n"
   ]
  },
  {
   "cell_type": "markdown",
   "id": "38ceeecf-f55b-480e-958f-0823254ff9b7",
   "metadata": {
    "deletable": false,
    "editable": false,
    "nbgrader": {
     "cell_type": "markdown",
     "checksum": "5486ff90c6ec7f89b57e72da6613c38a",
     "grade": false,
     "grade_id": "cell-b9d47c42c0974f5c",
     "locked": true,
     "schema_version": 3,
     "solution": false,
     "task": false
    }
   },
   "source": [
    "Ein Blick auf den (ursprünglichen) Datensatz offenbart ebenfalls, dass es erstaunlich viele Packungsgrößen gibt. Aber wie viele genau? Diese und zwei weitere Fragen werden wir als nächstes beantworten."
   ]
  },
  {
   "cell_type": "code",
   "execution_count": 15,
   "id": "4e95e5e1-1b8a-4561-9586-9cf9bb550952",
   "metadata": {
    "deletable": false,
    "nbgrader": {
     "cell_type": "code",
     "checksum": "6a8794fe661b69727e00e01fc18eff75",
     "grade": false,
     "grade_id": "cell-2b8b4e0f31c186f9",
     "locked": false,
     "schema_version": 3,
     "solution": true,
     "task": false
    },
    "revert": "# Ermitteln Sie drei verschiedene Werte aus dem Datensatz und \n# speichern Sie diese in den jeweils genannten Variablen.\n# Die Anzahl an Einträgen im Datensatz mit einer Verpackungsgröße von mindestens 500ml (Variable: 'num_big_packages')\n# Den maximalen Koffeingehalt eines Getränks mit weniger als 500 ml (Variable: 'caffeine_amount')\n# Die Anzahl unterschiedlicher Verpackungsgrößen (Variable: 'num_packaging')\n\n# YOUR CODE HERE\nraise NotImplementedError()\n\ntry:\n    print(f'Es gibt {num_big_packages} Getränke in Halbliterpackungen oder größer.')\n    print(f'Es gibt Getränke in {num_packaging} verschiedenen Verpackungsgrößen.')\n    print(f'Mit weniger als 500ml Flüssigkeit kann man maximal {caffeine_amount}mg Koffein erhalten.')\nexcept NameError as ne:\n    print('Da ist zumindest eine der Variablen noch nicht definiert!', ne)"
   },
   "outputs": [
    {
     "name": "stdout",
     "output_type": "stream",
     "text": [
      "Es gibt 43 Getränke in Halbliterpackungen oder größer.\n",
      "Es gibt Getränke in 70 verschiedenen Verpackungsgrößen.\n",
      "Mit weniger als 500ml Flüssigkeit kann man maximal 640mg Koffein erhalten.\n"
     ]
    }
   ],
   "source": [
    "# Ermitteln Sie drei verschiedene Werte aus dem Datensatz und \n",
    "# speichern Sie diese in den jeweils genannten Variablen.\n",
    "# Die Anzahl an Einträgen im Datensatz mit einer Verpackungsgröße von mindestens 500ml (Variable: 'num_big_packages')\n",
    "# Den maximalen Koffeingehalt eines Getränks mit weniger als 500 ml (Variable: 'caffeine_amount')\n",
    "# Die Anzahl unterschiedlicher Verpackungsgrößen (Variable: 'num_packaging')\n",
    "\n",
    "num_big_packages = df_drinks[df_drinks['Volume (ml)'] > 500]['Volume (ml)'].count()\n",
    "num_packaging = df_drinks['Volume (ml)'].nunique()\n",
    "caffeine_amount = df_drinks[df_drinks['Volume (ml)'] > 500]['Caffeine (mg)'].max()\n",
    "\n",
    "try:\n",
    "    print(f'Es gibt {num_big_packages} Getränke in Halbliterpackungen oder größer.')\n",
    "    print(f'Es gibt Getränke in {num_packaging} verschiedenen Verpackungsgrößen.')\n",
    "    print(f'Mit weniger als 500ml Flüssigkeit kann man maximal {caffeine_amount}mg Koffein erhalten.')\n",
    "except NameError as ne:\n",
    "    print('Da ist zumindest eine der Variablen noch nicht definiert!', ne)"
   ]
  },
  {
   "cell_type": "code",
   "execution_count": 16,
   "id": "a2e51ada-1db9-4d43-8d7e-b1faf230b8d1",
   "metadata": {
    "deletable": false,
    "editable": false,
    "nbgrader": {
     "cell_type": "code",
     "checksum": "be0c0a070703e78d764c61303cde4450",
     "grade": true,
     "grade_id": "cell-6dfa2b64e9d4ce5c",
     "locked": true,
     "points": 0.75,
     "schema_version": 3,
     "solution": false,
     "task": false
    }
   },
   "outputs": [],
   "source": [
    "# so viel sei über die richtigen Werte verraten:\n",
    "assert num_big_packages > 0, 'num_big_packages nicht > 0!'\n",
    "assert num_packaging > 0, 'num_big_packages nicht > 0!'\n",
    "assert caffeine_amount > 0, 'num_big_packages nicht > 0!'\n"
   ]
  },
  {
   "cell_type": "markdown",
   "id": "aedc3d6d-c55e-4be3-a0b8-6ad8f4d33b3f",
   "metadata": {
    "deletable": false,
    "editable": false,
    "nbgrader": {
     "cell_type": "markdown",
     "checksum": "694a8042af98e5cf37e672c8536cb045",
     "grade": false,
     "grade_id": "cell-91c6e079b143cb20",
     "locked": true,
     "schema_version": 3,
     "solution": false,
     "task": false
    }
   },
   "source": [
    "Die Gesamtmenge an Koffein und Kalorien in einem Getränk sind zwar sehr nützlich, um zu wissen, wie viel wir davon aufnehmen, wenn wir eine Portion/Packung davon trinken. Zum Vergleich der Getränke wäre es aber hilfreich, wenn wir die Menge pro 100ml wüssten."
   ]
  },
  {
   "cell_type": "code",
   "execution_count": 17,
   "id": "ae6d61e5-8934-4626-8710-de4486a23e5d",
   "metadata": {
    "deletable": false,
    "nbgrader": {
     "cell_type": "code",
     "checksum": "9004a3cfdd2d8e416405f2188b89459d",
     "grade": false,
     "grade_id": "cell-3ab2ce74ddff4f4f",
     "locked": false,
     "schema_version": 3,
     "solution": true,
     "task": false
    },
    "revert": "# Erweitern Sie das DataFrame 'df_drinks' um zwei Merkmale\n# \"Caffeine Concentration (mg/100ml)\"\n# und\n# \"Calories Concentration (per 100ml)\"\n# (die Anführungszeichen sind NICHT Teil des Namens)\n# Diese sollen für jedes Getränk die Koffein- bzw. Kalorienmenge pro 100ml enthalten.\n\n\n# YOUR CODE HERE\nraise NotImplementedError()\n\ndf_drinks"
   },
   "outputs": [
    {
     "data": {
      "text/html": [
       "<div>\n",
       "<style scoped>\n",
       "    .dataframe tbody tr th:only-of-type {\n",
       "        vertical-align: middle;\n",
       "    }\n",
       "\n",
       "    .dataframe tbody tr th {\n",
       "        vertical-align: top;\n",
       "    }\n",
       "\n",
       "    .dataframe thead th {\n",
       "        text-align: right;\n",
       "    }\n",
       "</style>\n",
       "<table border=\"1\" class=\"dataframe\">\n",
       "  <thead>\n",
       "    <tr style=\"text-align: right;\">\n",
       "      <th></th>\n",
       "      <th>Drink</th>\n",
       "      <th>Volume (ml)</th>\n",
       "      <th>Calories</th>\n",
       "      <th>Caffeine (mg)</th>\n",
       "      <th>Type</th>\n",
       "      <th>Caffeine Concentration (mg/100ml)</th>\n",
       "      <th>Calories Concentration (per 100ml)</th>\n",
       "    </tr>\n",
       "  </thead>\n",
       "  <tbody>\n",
       "    <tr>\n",
       "      <th>0</th>\n",
       "      <td>Costa Coffee</td>\n",
       "      <td>256.993715</td>\n",
       "      <td>0</td>\n",
       "      <td>277</td>\n",
       "      <td>Coffee</td>\n",
       "      <td>107.784737</td>\n",
       "      <td>0.000000</td>\n",
       "    </tr>\n",
       "    <tr>\n",
       "      <th>1</th>\n",
       "      <td>Coffee Friend Brewed Coffee</td>\n",
       "      <td>250.191810</td>\n",
       "      <td>0</td>\n",
       "      <td>145</td>\n",
       "      <td>Coffee</td>\n",
       "      <td>57.955534</td>\n",
       "      <td>0.000000</td>\n",
       "    </tr>\n",
       "    <tr>\n",
       "      <th>2</th>\n",
       "      <td>Hell Energy Coffee</td>\n",
       "      <td>250.191810</td>\n",
       "      <td>150</td>\n",
       "      <td>100</td>\n",
       "      <td>Coffee</td>\n",
       "      <td>39.969334</td>\n",
       "      <td>59.954001</td>\n",
       "    </tr>\n",
       "    <tr>\n",
       "      <th>3</th>\n",
       "      <td>Killer Coffee (AU)</td>\n",
       "      <td>250.191810</td>\n",
       "      <td>0</td>\n",
       "      <td>430</td>\n",
       "      <td>Coffee</td>\n",
       "      <td>171.868136</td>\n",
       "      <td>0.000000</td>\n",
       "    </tr>\n",
       "    <tr>\n",
       "      <th>4</th>\n",
       "      <td>Nescafe Gold</td>\n",
       "      <td>250.191810</td>\n",
       "      <td>0</td>\n",
       "      <td>66</td>\n",
       "      <td>Coffee</td>\n",
       "      <td>26.379760</td>\n",
       "      <td>0.000000</td>\n",
       "    </tr>\n",
       "  </tbody>\n",
       "</table>\n",
       "</div>"
      ],
      "text/plain": [
       "                         Drink  Volume (ml)  Calories  Caffeine (mg)    Type  \\\n",
       "0                 Costa Coffee   256.993715         0            277  Coffee   \n",
       "1  Coffee Friend Brewed Coffee   250.191810         0            145  Coffee   \n",
       "2           Hell Energy Coffee   250.191810       150            100  Coffee   \n",
       "3           Killer Coffee (AU)   250.191810         0            430  Coffee   \n",
       "4                 Nescafe Gold   250.191810         0             66  Coffee   \n",
       "\n",
       "   Caffeine Concentration (mg/100ml)  Calories Concentration (per 100ml)  \n",
       "0                         107.784737                            0.000000  \n",
       "1                          57.955534                            0.000000  \n",
       "2                          39.969334                           59.954001  \n",
       "3                         171.868136                            0.000000  \n",
       "4                          26.379760                            0.000000  "
      ]
     },
     "execution_count": 17,
     "metadata": {},
     "output_type": "execute_result"
    }
   ],
   "source": [
    "# Erweitern Sie das DataFrame 'df_drinks' um zwei Merkmale\n",
    "# \"Caffeine Concentration (mg/100ml)\"\n",
    "# und\n",
    "# \"Calories Concentration (per 100ml)\"\n",
    "# (die Anführungszeichen sind NICHT Teil des Namens)\n",
    "# Diese sollen für jedes Getränk die Koffein- bzw. Kalorienmenge pro 100ml enthalten.\n",
    "\n",
    "df_drinks[\"Caffeine Concentration (mg/100ml)\"] = (df_drinks['Caffeine (mg)'] / df_drinks['Volume (ml)']) * 100\n",
    "df_drinks[\"Calories Concentration (per 100ml)\"] = (df_drinks['Calories'] / df_drinks['Volume (ml)']) * 100\n",
    "\n",
    "df_drinks.head()"
   ]
  },
  {
   "cell_type": "code",
   "execution_count": 18,
   "id": "6a27e82e-e9bc-4ec1-8112-6eda29497249",
   "metadata": {
    "deletable": false,
    "editable": false,
    "nbgrader": {
     "cell_type": "code",
     "checksum": "a78868518cf421948360dbcdbaeccd5f",
     "grade": true,
     "grade_id": "cell-724bbd6510d8c463",
     "locked": true,
     "points": 1,
     "schema_version": 3,
     "solution": false,
     "task": false
    }
   },
   "outputs": [],
   "source": [
    "# Besitzt das DataFrame die beiden zusätzlichen Spalten, und enthalten diese die korrekten Informationen?\n",
    "assert type(df_drinks[\"Caffeine Concentration (mg/100ml)\"]) == pd.core.frame.Series, f'Merkmal \"Caffeine Concentration (mg/100ml)\" fehlt oder falsche Struktur: {type(df_waking_waters[\"Caffeine Concentration (mg/100ml)\"])}'\n",
    "assert type(df_drinks[\"Calories Concentration (per 100ml)\"]) == pd.core.frame.Series, f'Merkmal \"Calories Concentration (per 100ml)\" fehlt oder falsche Struktur: {type(df_drinks[\"Calories Concentration (per 100ml)\"])}'\n",
    "\n",
    "assert df_drinks[\"Caffeine Concentration (mg/100ml)\"].dtype == float, f'\"Caffeine Concentration (mg/100ml)\" hat falschen Datentyp: {df_drinks[\"Caffeine Concentration (mg/100ml)\"].dtype}'\n",
    "assert df_drinks[\"Calories Concentration (per 100ml)\"].dtype == float, f'\"Calories Concentration (per 100ml)\" hat falschen Datentyp: {df_drinks[\"Calories Concentration (per 100ml)\"].dtype}'\n",
    "\n",
    "# Zwei zufällig ausgewählte Werte zum Vergleich\n",
    "assert abs(df_drinks.loc[100, \"Caffeine Concentration (mg/100ml)\"]-26.76946) < 0.0001, f'Caffeine Concentration (mg/100ml) an Index 100 falsch: {df_drinks.loc[100, \"Caffeine Concentration (mg/100ml)\"] }'\n",
    "assert abs(df_drinks.loc[222, \"Calories Concentration (per 100ml)\"]-45.59198) < 0.0001, f'Calories Concentration (per 100ml) an Index 222 falsch: {df_drinks.loc[222, \"Calories Concentration (per 100ml)\"]}'\n",
    "\n"
   ]
  },
  {
   "cell_type": "markdown",
   "id": "97c665e8-029c-4077-a218-712d62dc278c",
   "metadata": {
    "deletable": false,
    "editable": false,
    "nbgrader": {
     "cell_type": "markdown",
     "checksum": "1823187b357cc9b6e8a1362e1f02e42a",
     "grade": false,
     "grade_id": "cell-8f6437c4b056a889",
     "locked": true,
     "schema_version": 3,
     "solution": false,
     "task": false
    }
   },
   "source": [
    "Nachdem wir nun die Koffeinkonzentration der einzelnen Getränke kennen, interessiert uns _natürlich_ eine Rangliste über die Getränke mit dem höchsten Koffeinanteil."
   ]
  },
  {
   "cell_type": "code",
   "execution_count": 19,
   "id": "d15e4a76-a863-408a-9d58-2926912623e5",
   "metadata": {
    "deletable": false,
    "nbgrader": {
     "cell_type": "code",
     "checksum": "03d851978d3c516cec1797a9ebc6e409",
     "grade": false,
     "grade_id": "cell-91072277a6969aa8",
     "locked": false,
     "schema_version": 3,
     "solution": true,
     "task": false
    },
    "revert": "# Erstellen Sie eine nach der Koffeinkonzentration absteigend \n# sortierte Kopie des DataFrames 'df_drinks', und speichern Sie eine \n# Referenz auf dieses neue DataFrame in der Variablen 'df_wake_me_up'\n\n\n# YOUR CODE HERE\nraise NotImplementedError()\n\ndf_wake_me_up"
   },
   "outputs": [
    {
     "data": {
      "text/html": [
       "<div>\n",
       "<style scoped>\n",
       "    .dataframe tbody tr th:only-of-type {\n",
       "        vertical-align: middle;\n",
       "    }\n",
       "\n",
       "    .dataframe tbody tr th {\n",
       "        vertical-align: top;\n",
       "    }\n",
       "\n",
       "    .dataframe thead th {\n",
       "        text-align: right;\n",
       "    }\n",
       "</style>\n",
       "<table border=\"1\" class=\"dataframe\">\n",
       "  <thead>\n",
       "    <tr style=\"text-align: right;\">\n",
       "      <th></th>\n",
       "      <th>Drink</th>\n",
       "      <th>Volume (ml)</th>\n",
       "      <th>Calories</th>\n",
       "      <th>Caffeine (mg)</th>\n",
       "      <th>Type</th>\n",
       "      <th>Caffeine Concentration (mg/100ml)</th>\n",
       "      <th>Calories Concentration (per 100ml)</th>\n",
       "    </tr>\n",
       "  </thead>\n",
       "  <tbody>\n",
       "    <tr>\n",
       "      <th>406</th>\n",
       "      <td>Vital 4U Liquid Energy</td>\n",
       "      <td>14.786750</td>\n",
       "      <td>34</td>\n",
       "      <td>155</td>\n",
       "      <td>Energy Shots</td>\n",
       "      <td>1048.235752</td>\n",
       "      <td>229.935584</td>\n",
       "    </tr>\n",
       "    <tr>\n",
       "      <th>405</th>\n",
       "      <td>Screamin Energy Max Hit</td>\n",
       "      <td>18.039835</td>\n",
       "      <td>40</td>\n",
       "      <td>185</td>\n",
       "      <td>Energy Shots</td>\n",
       "      <td>1025.508271</td>\n",
       "      <td>221.731518</td>\n",
       "    </tr>\n",
       "    <tr>\n",
       "      <th>407</th>\n",
       "      <td>Kaffn8 Liquified Caffeine</td>\n",
       "      <td>7.393375</td>\n",
       "      <td>0</td>\n",
       "      <td>75</td>\n",
       "      <td>Energy Shots</td>\n",
       "      <td>1014.421695</td>\n",
       "      <td>0.000000</td>\n",
       "    </tr>\n",
       "    <tr>\n",
       "      <th>416</th>\n",
       "      <td>Neu Nootropic Shot</td>\n",
       "      <td>59.147000</td>\n",
       "      <td>0</td>\n",
       "      <td>350</td>\n",
       "      <td>Energy Shots</td>\n",
       "      <td>591.745989</td>\n",
       "      <td>0.000000</td>\n",
       "    </tr>\n",
       "    <tr>\n",
       "      <th>427</th>\n",
       "      <td>X-Mode Energy Shot</td>\n",
       "      <td>29.573500</td>\n",
       "      <td>0</td>\n",
       "      <td>150</td>\n",
       "      <td>Energy Shots</td>\n",
       "      <td>507.210848</td>\n",
       "      <td>0.000000</td>\n",
       "    </tr>\n",
       "  </tbody>\n",
       "</table>\n",
       "</div>"
      ],
      "text/plain": [
       "                         Drink  Volume (ml)  Calories  Caffeine (mg)  \\\n",
       "406     Vital 4U Liquid Energy    14.786750        34            155   \n",
       "405    Screamin Energy Max Hit    18.039835        40            185   \n",
       "407  Kaffn8 Liquified Caffeine     7.393375         0             75   \n",
       "416         Neu Nootropic Shot    59.147000         0            350   \n",
       "427         X-Mode Energy Shot    29.573500         0            150   \n",
       "\n",
       "             Type  Caffeine Concentration (mg/100ml)  \\\n",
       "406  Energy Shots                        1048.235752   \n",
       "405  Energy Shots                        1025.508271   \n",
       "407  Energy Shots                        1014.421695   \n",
       "416  Energy Shots                         591.745989   \n",
       "427  Energy Shots                         507.210848   \n",
       "\n",
       "     Calories Concentration (per 100ml)  \n",
       "406                          229.935584  \n",
       "405                          221.731518  \n",
       "407                            0.000000  \n",
       "416                            0.000000  \n",
       "427                            0.000000  "
      ]
     },
     "execution_count": 19,
     "metadata": {},
     "output_type": "execute_result"
    }
   ],
   "source": [
    "# Erstellen Sie eine nach der Koffeinkonzentration absteigend \n",
    "# sortierte Kopie des DataFrames 'df_drinks', und speichern Sie eine \n",
    "# Referenz auf dieses neue DataFrame in der Variablen 'df_wake_me_up'\n",
    "\n",
    "\n",
    "df_wake_me_up = df_drinks.sort_values(by=\"Caffeine Concentration (mg/100ml)\", ascending=False)\n",
    "df_wake_me_up.head()"
   ]
  },
  {
   "cell_type": "code",
   "execution_count": 20,
   "id": "04c58348-2339-41b2-8439-36624402c1b6",
   "metadata": {
    "deletable": false,
    "editable": false,
    "nbgrader": {
     "cell_type": "code",
     "checksum": "9b95f2468ecd90089e00933bf03c8101",
     "grade": true,
     "grade_id": "cell-577e483866b418ab",
     "locked": true,
     "points": 0.25,
     "schema_version": 3,
     "solution": false,
     "task": false
    }
   },
   "outputs": [],
   "source": [
    "# grobe Struktur\n",
    "assert type(df_wake_me_up) == pd.core.frame.DataFrame, f'df_wake_me_up kein pandas DataFrame {type(df_wake_me_up)}'\n",
    "assert type(df_wake_me_up[\"Caffeine Concentration (mg/100ml)\"]) == pd.core.frame.Series, \\\n",
    "    f'Merkmal \"Caffeine Concentration (mg/100ml)\" fehlt oder falsche Struktur: {type(df_wake_me_up[\"Caffeine Concentration (mg/100ml)\"])}'\n",
    "assert df_wake_me_up[\"Caffeine Concentration (mg/100ml)\"].dtype == np.float64, \\\n",
    "    f'Daten von Merkmal \"Caffeine Concentration (mg/100ml)\" haben falschen Datentyp {df_wake_me_up[\"Caffeine Concentration (mg/100ml)\"].dtype}'\n",
    "assert len(df_wake_me_up.columns) == 7, f'Anzahl der Spalten von \"df_wake_me_up\" falsch: {len(df_wake_me_up.columns)}'\n",
    "\n",
    "# passende Werte\n",
    "assert len(df_wake_me_up.index) == 610, f'Das sortierte DataFrame hat plötzlich weniger Einträge: {len(df_wake_me_up.index)}'                                            \n",
    "assert abs(df_wake_me_up[\"Caffeine Concentration (mg/100ml)\"].iloc[2] - 1014.421695) < 0.00001, \\\n",
    "        f'Der Eintrag an Index 2 hat nicht den erwarteten Wert: {df_wake_me_up[\"Caffeine Concentration (mg/100ml)\"].iloc[2]}' \n",
    "\n",
    "# Sortierung\n",
    "def check_sort(values):\n",
    "    for idx, val in enumerate(values[1:]):\n",
    "        if values.iloc[idx] < val: return False\n",
    "    return True\n",
    "assert check_sort(df_wake_me_up[\"Caffeine Concentration (mg/100ml)\"]), f'DataFrame nicht absteigend sortiert!'\n",
    "assert df_wake_me_up.index.get_loc(321) == 84, f'Index 321 steht nicht an erwarteter Position: {df_wake_me_up.index.get_loc(321)}'\n"
   ]
  },
  {
   "cell_type": "markdown",
   "id": "0ef56b94-5058-4b71-bbd4-4286bf29911a",
   "metadata": {
    "deletable": false,
    "editable": false,
    "nbgrader": {
     "cell_type": "markdown",
     "checksum": "91c86aa03401e681fa188943e82c0c93",
     "grade": false,
     "grade_id": "cell-d5ccd57f1f8f9c5f",
     "locked": true,
     "schema_version": 3,
     "solution": false,
     "task": false
    }
   },
   "source": [
    "### Informationen über eigene Getränke eingeben (DataFrames erstellen und zusammenführen)"
   ]
  },
  {
   "cell_type": "markdown",
   "id": "73f7dd35-7905-48c5-a786-263cec1e2d5b",
   "metadata": {
    "deletable": false,
    "editable": false,
    "nbgrader": {
     "cell_type": "markdown",
     "checksum": "e9470f812b1e3ac58649da3dfeaa00b2",
     "grade": false,
     "grade_id": "cell-e6810a889a0f256c",
     "locked": true,
     "schema_version": 3,
     "solution": false,
     "task": false
    }
   },
   "source": [
    "Von den Vorteilen des Datensatzes überzeugt, stellen Sie fest, dass Ihre Lieblingsgetränke leider nicht im Datensatz enthalten sind. Um in der Zukunft für Sie noch nützlicher zu sein, müssen Sie dies natürlich ändern und den Datensatz entsprechend erweitern.\n",
    "\n",
    "Wir werden dabei in zwei Schritten vorgehen: \n",
    "- Zuerst erstellen wir ein neues DataFrame, in welchem wir unsere neuen Einträge definieren (nächste Zelle)\n",
    "- Anschließen vereinen wir das Ursprüngliche und das neue DataFrame zu einem vollständigen DataFrame (anschließende Zelle)\n",
    "\n",
    "_Hinweis:_ Es ist ok, wenn Sie sich Werte ausdenken - Sie müssen nicht (können aber natürlich) anfangen den Koffein- und Kaloriengehalt echter Getränke zu recherchieren."
   ]
  },
  {
   "cell_type": "code",
   "execution_count": 21,
   "id": "43aef958-34b9-45eb-81ce-eb18d8a7e62b",
   "metadata": {
    "deletable": false,
    "nbgrader": {
     "cell_type": "code",
     "checksum": "68c36e837d301b2590878da79994792e",
     "grade": false,
     "grade_id": "cell-54e617d68b7d06bd",
     "locked": false,
     "schema_version": 3,
     "solution": true,
     "task": false
    },
    "revert": "# Erstellen Sie ein neues DataFrame mit den Merkmalen \n# \"Drink\", \"Volume (ml)\", \"Calories\", \"Caffeine (mg)\", \"Type\" \n# (also nur den ursprünglichen Merkmalen).\n# Das DataFrame muss mindestens drei Einträge besitzen und \n# die Einträge müssen unterschiedliche Werte enthalten. \n# (die Einträge können auf ein oder zwei Merkmalen die selben \n#  Werte haben, müssen sich auf den restlichen Merkmalen aber \n#  unterscheiden - Ziel ist, nicht einfach den selben Eintrag \n#  drei mal zu kopieren, sondern wirklich 3 Einträge von \n#  Hand zu erstellen).\n# Speichern Sie eine Referenz auf das DataFrame in der\n# Variablen 'df_my' ab\n\n# YOUR CODE HERE\nraise NotImplementedError()\n\ndf_my"
   },
   "outputs": [
    {
     "data": {
      "text/html": [
       "<div>\n",
       "<style scoped>\n",
       "    .dataframe tbody tr th:only-of-type {\n",
       "        vertical-align: middle;\n",
       "    }\n",
       "\n",
       "    .dataframe tbody tr th {\n",
       "        vertical-align: top;\n",
       "    }\n",
       "\n",
       "    .dataframe thead th {\n",
       "        text-align: right;\n",
       "    }\n",
       "</style>\n",
       "<table border=\"1\" class=\"dataframe\">\n",
       "  <thead>\n",
       "    <tr style=\"text-align: right;\">\n",
       "      <th></th>\n",
       "      <th>Drink</th>\n",
       "      <th>Volume (ml)</th>\n",
       "      <th>Calories</th>\n",
       "      <th>Caffeine (mg)</th>\n",
       "      <th>Type</th>\n",
       "    </tr>\n",
       "  </thead>\n",
       "  <tbody>\n",
       "    <tr>\n",
       "      <th>0</th>\n",
       "      <td>Nuke Cola (Fallout Series)</td>\n",
       "      <td>355</td>\n",
       "      <td>150</td>\n",
       "      <td>45</td>\n",
       "      <td>Soft Drinks</td>\n",
       "    </tr>\n",
       "    <tr>\n",
       "      <th>1</th>\n",
       "      <td>Mana Potion (The Legend of Zelda)</td>\n",
       "      <td>200</td>\n",
       "      <td>10</td>\n",
       "      <td>0</td>\n",
       "      <td>Magic Drinks</td>\n",
       "    </tr>\n",
       "    <tr>\n",
       "      <th>2</th>\n",
       "      <td>Sody Pop (EarthBound)</td>\n",
       "      <td>355</td>\n",
       "      <td>120</td>\n",
       "      <td>30</td>\n",
       "      <td>Soft Drinks</td>\n",
       "    </tr>\n",
       "    <tr>\n",
       "      <th>3</th>\n",
       "      <td>Butter Beer (Harry Potter)</td>\n",
       "      <td>500</td>\n",
       "      <td>210</td>\n",
       "      <td>0</td>\n",
       "      <td>Magic Drinks</td>\n",
       "    </tr>\n",
       "    <tr>\n",
       "      <th>4</th>\n",
       "      <td>Energon (Transformers)</td>\n",
       "      <td>250</td>\n",
       "      <td>100</td>\n",
       "      <td>150</td>\n",
       "      <td>Energy Drinks</td>\n",
       "    </tr>\n",
       "  </tbody>\n",
       "</table>\n",
       "</div>"
      ],
      "text/plain": [
       "                               Drink  Volume (ml)  Calories  Caffeine (mg)  \\\n",
       "0         Nuke Cola (Fallout Series)          355       150             45   \n",
       "1  Mana Potion (The Legend of Zelda)          200        10              0   \n",
       "2              Sody Pop (EarthBound)          355       120             30   \n",
       "3         Butter Beer (Harry Potter)          500       210              0   \n",
       "4             Energon (Transformers)          250       100            150   \n",
       "\n",
       "            Type  \n",
       "0    Soft Drinks  \n",
       "1   Magic Drinks  \n",
       "2    Soft Drinks  \n",
       "3   Magic Drinks  \n",
       "4  Energy Drinks  "
      ]
     },
     "execution_count": 21,
     "metadata": {},
     "output_type": "execute_result"
    }
   ],
   "source": [
    "# Erstellen Sie ein neues DataFrame mit den Merkmalen \n",
    "# \"Drink\", \"Volume (ml)\", \"Calories\", \"Caffeine (mg)\", \"Type\" \n",
    "# (also nur den ursprünglichen Merkmalen).\n",
    "# Das DataFrame muss mindestens drei Einträge besitzen und \n",
    "# die Einträge müssen unterschiedliche Werte enthalten. \n",
    "# (die Einträge können auf ein oder zwei Merkmalen die selben \n",
    "#  Werte haben, müssen sich auf den restlichen Merkmalen aber \n",
    "#  unterscheiden - Ziel ist, nicht einfach den selben Eintrag \n",
    "#  drei mal zu kopieren, sondern wirklich 3 Einträge von \n",
    "#  Hand zu erstellen).\n",
    "# Speichern Sie eine Referenz auf das DataFrame in der\n",
    "# Variablen 'df_my' ab\n",
    "\n",
    "\n",
    "df_my = pd.DataFrame(data={\n",
    "    \"Drink\": ['Nuke Cola (Fallout Series)','Mana Potion (The Legend of Zelda)','Sody Pop (EarthBound)','Butter Beer (Harry Potter)','Energon (Transformers)','Peach Tea (Final Fantasy XV)', 'Slurm (Futurama)', 'Vita-Cola (Wolfenstein: The New Order)'],\n",
    "    \"Volume (ml)\": [355, 200, 355, 500, 250, 500, 355, 400],\n",
    "    \"Calories\": [150, 10, 120, 210, 100, 150, 220, 180],\n",
    "    \"Caffeine (mg)\": [45, 0, 30, 0, 150, 35, 80, 65],\n",
    "    \"Type\": ['Soft Drinks', 'Magic Drinks', 'Soft Drinks', 'Magic Drinks', 'Energy Drinks', 'Tea', 'Soft Drinks', 'Soft Drinks']\n",
    "})\n",
    "\n",
    "df_my.head()"
   ]
  },
  {
   "cell_type": "code",
   "execution_count": 22,
   "id": "20f421dc-421b-42f9-8a55-06e9f3bcc335",
   "metadata": {
    "deletable": false,
    "editable": false,
    "nbgrader": {
     "cell_type": "code",
     "checksum": "17477efa5e127658790b81c555489461",
     "grade": true,
     "grade_id": "cell-59baef09280a3cd0",
     "locked": true,
     "points": 0.5,
     "schema_version": 3,
     "solution": false,
     "task": false
    }
   },
   "outputs": [],
   "source": [
    "assert type(df_my) == pd.core.frame.DataFrame, f'df_my kein pandas DataFrame {type(df_my)}'\n",
    "\n",
    "assert len(df_my.index) >= 3, f'df_my hat weniger als die geforderten 3 Einträge: {len(df_my.index)}'\n",
    "assert len(df_my.columns) == 5, f'df_my hat eine falsche Anzahl an Spalten: {len(df_my.columns)}'\n",
    "\n",
    "assert type(df_my[\"Calories\"]) == pd.core.frame.Series, f'Merkmal \"Calories\" fehlt oder falsche Struktur: {type(df_my[\"Calories\"])}'\n"
   ]
  },
  {
   "cell_type": "markdown",
   "id": "867e44e9-5220-4d8e-bb15-1ec7b54d050b",
   "metadata": {
    "deletable": false,
    "editable": false,
    "nbgrader": {
     "cell_type": "markdown",
     "checksum": "318e90bcd211c951753bd72c890aeabe",
     "grade": false,
     "grade_id": "cell-5d63317a991c7b34",
     "locked": true,
     "schema_version": 3,
     "solution": false,
     "task": false
    }
   },
   "source": [
    "Nun verbinden wir die beiden DataFrames (achten Sie auf die genaue Angabe in der nächsten Zelle)."
   ]
  },
  {
   "cell_type": "code",
   "execution_count": 23,
   "id": "38639116-34a9-4056-a515-1b102c474254",
   "metadata": {
    "deletable": false,
    "nbgrader": {
     "cell_type": "code",
     "checksum": "e9cdcd7d7e31d7b68bf9613549bd1988",
     "grade": false,
     "grade_id": "cell-20a7c99e61f78f2f",
     "locked": false,
     "schema_version": 3,
     "solution": true,
     "task": false
    },
    "revert": "# Erzeugen Sie ein neues DataFrame, welches sowohl alle Einträge des \n# DataFrames 'df_drinks' als auch alle Einträge des DataFrames \n# 'df_my' enthält. Aus dem DataFrame 'df_drinks' sollen nur die\n# ursprünglichen Merkmale \n# \"Drink\", \"Volume (ml)\", \"Calories\", \"Caffeine (mg)\", \"Type\" \n# übernommen werden.\n# Sorgen Sie dafür, dass alle Einträge (Zeilen) in 'df_all' einen \n# eindeutigen Index haben (im Index dürfen sich keine Werte wiederholen).\n# Weder das DataFrame 'df_drinks' noch das DataFrame 'df_my' darf\n# verändert werden. \n# Speichern Sie eine Referenz auf das neue DataFrame in der Variablen\n# 'df_all' ab.\n\n\ncols = [\"Drink\", \"Volume (ml)\", \"Calories\", \"Caffeine (mg)\", \"Type\"]\n\n# YOUR CODE HERE\nraise NotImplementedError()\n\ndf_all"
   },
   "outputs": [
    {
     "data": {
      "text/html": [
       "<div>\n",
       "<style scoped>\n",
       "    .dataframe tbody tr th:only-of-type {\n",
       "        vertical-align: middle;\n",
       "    }\n",
       "\n",
       "    .dataframe tbody tr th {\n",
       "        vertical-align: top;\n",
       "    }\n",
       "\n",
       "    .dataframe thead th {\n",
       "        text-align: right;\n",
       "    }\n",
       "</style>\n",
       "<table border=\"1\" class=\"dataframe\">\n",
       "  <thead>\n",
       "    <tr style=\"text-align: right;\">\n",
       "      <th></th>\n",
       "      <th>Drink</th>\n",
       "      <th>Volume (ml)</th>\n",
       "      <th>Calories</th>\n",
       "      <th>Caffeine (mg)</th>\n",
       "      <th>Type</th>\n",
       "    </tr>\n",
       "  </thead>\n",
       "  <tbody>\n",
       "    <tr>\n",
       "      <th>0</th>\n",
       "      <td>Costa Coffee</td>\n",
       "      <td>256.993715</td>\n",
       "      <td>0</td>\n",
       "      <td>277</td>\n",
       "      <td>Coffee</td>\n",
       "    </tr>\n",
       "    <tr>\n",
       "      <th>1</th>\n",
       "      <td>Coffee Friend Brewed Coffee</td>\n",
       "      <td>250.191810</td>\n",
       "      <td>0</td>\n",
       "      <td>145</td>\n",
       "      <td>Coffee</td>\n",
       "    </tr>\n",
       "    <tr>\n",
       "      <th>2</th>\n",
       "      <td>Hell Energy Coffee</td>\n",
       "      <td>250.191810</td>\n",
       "      <td>150</td>\n",
       "      <td>100</td>\n",
       "      <td>Coffee</td>\n",
       "    </tr>\n",
       "    <tr>\n",
       "      <th>3</th>\n",
       "      <td>Killer Coffee (AU)</td>\n",
       "      <td>250.191810</td>\n",
       "      <td>0</td>\n",
       "      <td>430</td>\n",
       "      <td>Coffee</td>\n",
       "    </tr>\n",
       "    <tr>\n",
       "      <th>4</th>\n",
       "      <td>Nescafe Gold</td>\n",
       "      <td>250.191810</td>\n",
       "      <td>0</td>\n",
       "      <td>66</td>\n",
       "      <td>Coffee</td>\n",
       "    </tr>\n",
       "  </tbody>\n",
       "</table>\n",
       "</div>"
      ],
      "text/plain": [
       "                         Drink  Volume (ml)  Calories  Caffeine (mg)    Type\n",
       "0                 Costa Coffee   256.993715         0            277  Coffee\n",
       "1  Coffee Friend Brewed Coffee   250.191810         0            145  Coffee\n",
       "2           Hell Energy Coffee   250.191810       150            100  Coffee\n",
       "3           Killer Coffee (AU)   250.191810         0            430  Coffee\n",
       "4                 Nescafe Gold   250.191810         0             66  Coffee"
      ]
     },
     "execution_count": 23,
     "metadata": {},
     "output_type": "execute_result"
    }
   ],
   "source": [
    "# Erzeugen Sie ein neues DataFrame, welches sowohl alle Einträge des \n",
    "# DataFrames 'df_drinks' als auch alle Einträge des DataFrames \n",
    "# 'df_my' enthält. Aus dem DataFrame 'df_drinks' sollen nur die\n",
    "# ursprünglichen Merkmale \n",
    "# \"Drink\", \"Volume (ml)\", \"Calories\", \"Caffeine (mg)\", \"Type\" \n",
    "# übernommen werden.\n",
    "# Sorgen Sie dafür, dass alle Einträge (Zeilen) in 'df_all' einen \n",
    "# eindeutigen Index haben (im Index dürfen sich keine Werte wiederholen).\n",
    "# Weder das DataFrame 'df_drinks' noch das DataFrame 'df_my' darf\n",
    "# verändert werden. \n",
    "# Speichern Sie eine Referenz auf das neue DataFrame in der Variablen\n",
    "# 'df_all' ab.\n",
    "\n",
    "\n",
    "cols = [\"Drink\", \"Volume (ml)\", \"Calories\", \"Caffeine (mg)\", \"Type\"]\n",
    "\n",
    "df_all = pd.concat([df_drinks, df_my], join='inner', ignore_index=True)\n",
    "\n",
    "df_all.head()"
   ]
  },
  {
   "cell_type": "code",
   "execution_count": 24,
   "id": "f7d303c8-8ec6-4f96-a6ea-92831ff1b912",
   "metadata": {
    "deletable": false,
    "editable": false,
    "nbgrader": {
     "cell_type": "code",
     "checksum": "d62534f2ee3d2570ab6e225c72ecd0af",
     "grade": true,
     "grade_id": "cell-48b973f836a467bf",
     "locked": true,
     "points": 0.5,
     "schema_version": 3,
     "solution": false,
     "task": false
    }
   },
   "outputs": [],
   "source": [
    "assert type(df_all) == pd.core.frame.DataFrame, f'df_all kein pandas DataFrame {type(df_all)}'\n",
    "\n",
    "assert len(df_all.index) >= 613, f'Die Anzahl der Einträge in df_all deutet auf ein Problem hin: {len(df_all.index)}'\n",
    "assert len(df_all.columns) == 5, f'df_all hat eine falsche Anzahl an Spalten: {len(df_all.columns)}'\n",
    "\n",
    "assert len([a for a in df_all.index if a == 0]) <= 1, f'Es scheint als käme zumindest die 0 öfter als einmal als Index vor'\n"
   ]
  },
  {
   "cell_type": "markdown",
   "id": "0b3cc70d-654b-42a9-9512-b6b66a987c65",
   "metadata": {
    "deletable": false,
    "editable": false,
    "nbgrader": {
     "cell_type": "markdown",
     "checksum": "40b4e800c1818d359812edf7e9aab95a",
     "grade": false,
     "grade_id": "cell-312481f21b571fa5",
     "locked": true,
     "schema_version": 3,
     "solution": false,
     "task": false
    }
   },
   "source": [
    "## Lehrpersonen in Österreich\n",
    "\n",
    "Für die zweite Hälfte des Übungsblattes wechseln wir den Datensatz, und betrachten die Anzahl an Lehrpersonen (sowie die Anzahl an Vollzeitäquivalenten) in Österreich, aufgeschlüsselt nach Jahr (2015-2022) und politischem Bezirk. Es geht in erster Linie wieder darum, einige grundlegende Funktionen von DataFrames anzuwenden - wobei ein etwas stärkerer Fokus auf Funktionen liegen wird, welche für das Aufbereiten der Daten nötig sind: Selten finden sich Datensätze in genau dem Format und mit genau den Informationen, die für die eigene Arbeite gerade benötigt werden. Gefundene Daten in eine verwendbare Form zu bekommen macht einen nicht unerheblichen Teil der Arbeit aus. \n",
    "\n",
    "Wir werden einige Funktionen, die bei dieser Arbeit hilfreich sein können, einsetzen - wobei der verwendete Datensatz prinzipiell in sehr gutem Zustand ist (konsistent, vollständig, eine einhetliche, fehlerfreie Kodierung). Trotzdem werden wir einige Schritte benötigen, um ihn wirklich lesen zu können.\n",
    "\n",
    "**Beschreibung der Daten:**\n",
    "\n",
    "- Das **Schuljahr** (das Schuljahr 2015 beschreibt den Zeitraum 2015/16, wir werden für 2015/16 einfach die Bezeichnung 2015 wählen)\n",
    "- Der **politische Bezirk**\n",
    "- Die **Anzahl der Lehrpersonen** (in diesem Bezirk und Jahr)\n",
    "- Die **Anzahl der Vollzeitäquivalente** (in diesem Bezirk und Jahr)\n",
    "\n",
    "Die eigentlichen Daten liegen in der Datei ```LehrpersonenSeit2015.csv```. Wie wir in Kürze sehen werden, sind dort einige Daten nicht direkt hinterlegt, sondern durch Kennzeichnungen identifiziert (garantiert eine einheitliche Klassifikation und Beschreibung). Die Bedeutung dieser Kennzeichnungen wird in extra Dateien zur Verfügung gestellt. \n",
    "- Die Datei ```LehrpersonenSeit2015_Header.csv``` enthält die Merkmalsnamen\n",
    "- Die Datei ```LehrpersonenSeit2015_PolBezirke.csv``` enthält die Namen der politischen Bezirke\n",
    "- Die Datenquelle stellt noch eine weitere Datei mit den Bezeichnungen der Schuljahre zur Verfügung, diese werden wir aber nicht verwenden. (Sie finden Sie bei Interesse unter der unten genannten URL)\n",
    "\n",
    "**Quelle:**\n",
    "\n",
    "Die Daten stammen von der Statistik Austria, wir verwenden allerdings die auf [data.gv.at](https://www.data.gv.at/katalog/dataset/d1e51cde-f2a3-39f0-b2db-83f806df1fa0) veröffentlichte Variante. \n",
    "Auch wenn wir die Daten natürlich nicht verifizieren konnten, ist aufgrund der Quelle davon auszugehen, dass sie korrekt sind. Der Datensatz wurde unverändert übernommen.\n",
    "\n",
    "Link zum Datensatz: [https://www.data.gv.at/katalog/dataset/d1e51cde-f2a3-39f0-b2db-83f806df1fa0](https://www.data.gv.at/katalog/dataset/d1e51cde-f2a3-39f0-b2db-83f806df1fa0)"
   ]
  },
  {
   "cell_type": "code",
   "execution_count": 25,
   "id": "3c0b415b-5a7a-4522-87df-522456565c2d",
   "metadata": {
    "deletable": false,
    "nbgrader": {
     "cell_type": "code",
     "checksum": "27a1073b00857a4de19b188ef4dcb5a4",
     "grade": false,
     "grade_id": "cell-99db7c4b1e949499",
     "locked": false,
     "schema_version": 3,
     "solution": true,
     "task": false
    },
    "revert": "# Laden Sie die in 'path_teacher' referenzierte csv Datei in DataFrame und \n# speichern Sie eine Referenz auf dieses DataFrame in der Variablen 'df_teachers_raw' ab.\n# Achtung! Die Datei verwendet ; als Trennzeichen\n\npath_teacher = 'LehrpersonenSeit2015.csv'\n\n# YOUR CODE HERE\nraise NotImplementedError()\n\ndf_teachers_raw"
   },
   "outputs": [],
   "source": [
    "# Laden Sie die in 'path_teacher' referenzierte csv Datei in DataFrame und \n",
    "# speichern Sie eine Referenz auf dieses DataFrame in der Variablen 'df_teachers_raw' ab.\n",
    "# Achtung! Die Datei verwendet ; als Trennzeichen\n",
    "\n",
    "path_teacher = 'LehrpersonenSeit2015.csv'\n",
    "\n",
    "df_teachers_raw = pd.read_csv(path_teacher,delimiter=';')"
   ]
  },
  {
   "cell_type": "code",
   "execution_count": 26,
   "id": "904b7c0d-1ecd-4ce9-8d9b-789355c05729",
   "metadata": {
    "deletable": false,
    "editable": false,
    "nbgrader": {
     "cell_type": "code",
     "checksum": "c9c124e89fab1806c62b89d39687b6fc",
     "grade": true,
     "grade_id": "cell-ada3f3cc56cb0812",
     "locked": true,
     "points": 0.25,
     "schema_version": 3,
     "solution": false,
     "task": false
    }
   },
   "outputs": [],
   "source": [
    "assert type(df_teachers_raw) == pd.core.frame.DataFrame, f'df_teachers_raw kein pandas DataFrame {type(df_teachers_raw)}'\n",
    "assert type(df_teachers_raw[\"F-GEW1-0\"]) == pd.core.frame.Series, f'Merkmal \"F-GEW1-0\" fehlt oder falsche Struktur: {type(df_weather_wien[\"F-GEW1-0\"])}'\n",
    "assert df_teachers_raw[\"F-GEW1-0\"].dtype == np.int64, f'Daten von Merkmal \"F-GEW1-0\" haben falschen Datentyp {df_teachers_raw[\"F-GEW1-0\"].dtype}'\n",
    "\n",
    "assert len(df_teachers_raw.columns) == 4, f'Anzahl der Merkmale stimmt nicht: {len(df_teachers_raw.columns)}'\n",
    "assert len(df_teachers_raw.index) == 930, f'Anzahl der Einträge stimmt nicht: {len(df_teachers_raw.index)}'\n"
   ]
  },
  {
   "cell_type": "code",
   "execution_count": 27,
   "id": "0da685b2-f117-4e5d-8708-83777939cdce",
   "metadata": {
    "deletable": false,
    "editable": false,
    "nbgrader": {
     "cell_type": "code",
     "checksum": "2227a46398fc54f206704ea1ad0df0ff",
     "grade": false,
     "grade_id": "cell-2c5267cd71fb713b",
     "locked": true,
     "schema_version": 3,
     "solution": false,
     "task": false
    }
   },
   "outputs": [
    {
     "data": {
      "text/html": [
       "<div>\n",
       "<style scoped>\n",
       "    .dataframe tbody tr th:only-of-type {\n",
       "        vertical-align: middle;\n",
       "    }\n",
       "\n",
       "    .dataframe tbody tr th {\n",
       "        vertical-align: top;\n",
       "    }\n",
       "\n",
       "    .dataframe thead th {\n",
       "        text-align: right;\n",
       "    }\n",
       "</style>\n",
       "<table border=\"1\" class=\"dataframe\">\n",
       "  <thead>\n",
       "    <tr style=\"text-align: right;\">\n",
       "      <th></th>\n",
       "      <th>C-SJAHR-0</th>\n",
       "      <th>C-BEZ17L-0</th>\n",
       "      <th>F-GEW1-0</th>\n",
       "      <th>F-GEW2-0</th>\n",
       "    </tr>\n",
       "  </thead>\n",
       "  <tbody>\n",
       "    <tr>\n",
       "      <th>0</th>\n",
       "      <td>SJAHR-2015</td>\n",
       "      <td>BEZ17L-101</td>\n",
       "      <td>680</td>\n",
       "      <td>599</td>\n",
       "    </tr>\n",
       "    <tr>\n",
       "      <th>1</th>\n",
       "      <td>SJAHR-2015</td>\n",
       "      <td>BEZ17L-102</td>\n",
       "      <td>32</td>\n",
       "      <td>31</td>\n",
       "    </tr>\n",
       "    <tr>\n",
       "      <th>2</th>\n",
       "      <td>SJAHR-2015</td>\n",
       "      <td>BEZ17L-103</td>\n",
       "      <td>249</td>\n",
       "      <td>218</td>\n",
       "    </tr>\n",
       "    <tr>\n",
       "      <th>3</th>\n",
       "      <td>SJAHR-2015</td>\n",
       "      <td>BEZ17L-104</td>\n",
       "      <td>350</td>\n",
       "      <td>315</td>\n",
       "    </tr>\n",
       "    <tr>\n",
       "      <th>4</th>\n",
       "      <td>SJAHR-2015</td>\n",
       "      <td>BEZ17L-105</td>\n",
       "      <td>175</td>\n",
       "      <td>158</td>\n",
       "    </tr>\n",
       "  </tbody>\n",
       "</table>\n",
       "</div>"
      ],
      "text/plain": [
       "    C-SJAHR-0  C-BEZ17L-0  F-GEW1-0  F-GEW2-0\n",
       "0  SJAHR-2015  BEZ17L-101       680       599\n",
       "1  SJAHR-2015  BEZ17L-102        32        31\n",
       "2  SJAHR-2015  BEZ17L-103       249       218\n",
       "3  SJAHR-2015  BEZ17L-104       350       315\n",
       "4  SJAHR-2015  BEZ17L-105       175       158"
      ]
     },
     "execution_count": 27,
     "metadata": {},
     "output_type": "execute_result"
    }
   ],
   "source": [
    "df_teachers_raw.head()"
   ]
  },
  {
   "cell_type": "code",
   "execution_count": 28,
   "id": "706e32a1-106a-4874-81e6-45e7dc0643d0",
   "metadata": {
    "deletable": false,
    "editable": false,
    "nbgrader": {
     "cell_type": "code",
     "checksum": "292e9efb9f0db7f950d45446aabf64b1",
     "grade": false,
     "grade_id": "cell-72b6b0d726bebdaa",
     "locked": true,
     "schema_version": 3,
     "solution": false,
     "task": false
    }
   },
   "outputs": [
    {
     "name": "stdout",
     "output_type": "stream",
     "text": [
      "<class 'pandas.core.frame.DataFrame'>\n",
      "RangeIndex: 930 entries, 0 to 929\n",
      "Data columns (total 4 columns):\n",
      " #   Column      Non-Null Count  Dtype \n",
      "---  ------      --------------  ----- \n",
      " 0   C-SJAHR-0   930 non-null    object\n",
      " 1   C-BEZ17L-0  930 non-null    object\n",
      " 2   F-GEW1-0    930 non-null    int64 \n",
      " 3   F-GEW2-0    930 non-null    int64 \n",
      "dtypes: int64(2), object(2)\n",
      "memory usage: 29.2+ KB\n"
     ]
    }
   ],
   "source": [
    "df_teachers_raw.info()"
   ]
  },
  {
   "cell_type": "markdown",
   "id": "baeda6cf-c7d2-4176-bfaa-c61bc4963208",
   "metadata": {
    "deletable": false,
    "editable": false,
    "nbgrader": {
     "cell_type": "markdown",
     "checksum": "4c9b54fe45d6cb1c666cee0cfac85c38",
     "grade": false,
     "grade_id": "cell-cbd2a9b1541a94b3",
     "locked": true,
     "schema_version": 3,
     "solution": false,
     "task": false
    }
   },
   "source": [
    "Ein schneller Blick auf die grundlegenden Eigenschaften des DataFrames zeigt, was bereits angekündigt wurde: Die Daten selber schauen auf den ersten Blick nicht schlecht aus (keine fehlenden Daten, die beiden Spalten mit offensichtlich numerischen Werten wurde als Integer erkannt - es gibt da also keine Einträge mit ungültigen Zeichen), aber die Merkmalsnamen sowie die Werte der beiden ersten Merkmale sind für uns nicht sehr aussagekräftig. \n",
    "Unser Ziel ist es daher, diese \"Probleme\" zu beheben. \n",
    "\n",
    "Konkret:\n",
    "\n",
    "- Wir werden den Merkmalen (columns) verständliche Namen geben\n",
    "- Wir werden die Werte des ersten Merkmals (Schuljahr) durch Zahlenwerte für das jeweilige Jahr (2015, 2016, ...) ersetzen\n",
    "- Wir werden die Werte des zweiten Merkmals (pol. Bezirk) durch die Bezirksnamen ersetzen.\n",
    "\n",
    "Zusätzliche möchten wir den Datensatz noch um eine Spalte \"Bundesland\" ergänzen, in welcher wir das Bundesland abspeichern, in dem der pol. Bezirk liegt.\n",
    "\n",
    "_Anmerkung:_ Einige der nächsten Schritte erscheinen vielleicht etwas umständlicher als notwendig, oder zumindest deren Aufteilung auf einzelne Zellen scheint unnötig. \n",
    "Tatsächlich ist es so, dass sich manche dieser Schritte zusammenfassen/vereinfachen lassen. Die Aufteilung folgt hier didaktischen Gründen: Wir versuchen, die Anzahl \"neuer\" \n",
    "Funktionen pro Zelle möglichst klein zu halten. Gleichzeitig soll es möglich sein, jede Zelle mehrfach auszuführen, ohne dass dies zu Fehlern führt - dies sollte die \n",
    "Anzahl der Fälle reduzieren in denen es nötig ist, alle bisherigen Schritte erneut auszuführen. Statt dessen sollte jede Zelle so oft angepasst und erneut ausgeführt werden\n",
    "können, bis das Ergebnis passt."
   ]
  },
  {
   "cell_type": "markdown",
   "id": "257db679-1b2f-4ab2-bd38-06289c79e5cf",
   "metadata": {
    "deletable": false,
    "editable": false,
    "nbgrader": {
     "cell_type": "markdown",
     "checksum": "5cd6c2b53f7db401454fcd1791e4c93d",
     "grade": false,
     "grade_id": "cell-b89d28087e4341da",
     "locked": true,
     "schema_version": 3,
     "solution": false,
     "task": false
    }
   },
   "source": [
    "### \"Sprechende\" Namen für Merkmale\n",
    "\n",
    "Der erste Schritt besteht darin, den Merkmalen für uns verständliche Namen zu geben. Wie beschrieben, werden diese als Teil des Datensatzes in einer eigenen Datei (hier: ```LehrpersonenSeit2015_Header.csv```) mitgeliefert. In dieser Datei erkennen wir die folgenden Merkmalsnamen: \n",
    "\n",
    "* ```C-SJAHR-0```: Schuljahr\n",
    "* ```C-BEZ17L-0```: Pol. Bezirk\n",
    "* ```F-GEW1-0```: Anzahl Lehrpersonen\n",
    "* ```F-GEW2-0```: Vollzeitäquivalente\n",
    "\n",
    "Unser Ziel ist es, die Spalten umzubenennen. Wie Sie dabei vorgehen, ist Ihnen überlassen - die Lösung darf in diesem Fall auch basierend auf den oben genannten Werten fix-kodiert (\"hard-coded\") sein, bzw. ist das sogar die intendierte Lösung. Wenn Ihnen das zu einfach ist, dürfen Sie aber gerne versuchen, die Spalten dynamisch mit Hilfe der Datei ```'LehrpersonenSeit2015_Header.csv'``` umzubennen."
   ]
  },
  {
   "cell_type": "code",
   "execution_count": 29,
   "id": "d74caeea-7ec3-46fc-8348-37583e966238",
   "metadata": {
    "deletable": false,
    "nbgrader": {
     "cell_type": "code",
     "checksum": "a5c86db68cda10f2d27fa00e2c1ece64",
     "grade": false,
     "grade_id": "cell-fc3f94856772aa98",
     "locked": false,
     "schema_version": 3,
     "solution": true,
     "task": false
    },
    "revert": "# Bennen Sie die Mermale des DataFrames 'df_teachers_raw' entsprechend des oben genannten Schemas um\n\n# falls Ihnen eine dieser beiden Datenstrukturen behilflich ist, dürfen Sie sie gerne verwenden.\ncol_names_dict = {\"C-SJAHR-0\": \"Schuljahr\",\n                  \"C-BEZ17L-0\": \"Pol. Bezirk\",\n                  \"F-GEW1-0\": \"Anzahl Lehrpersonen\",\n                  \"F-GEW2-0\": \"Vollzeitäquivalente\"}\ncol_names = list(col_names_dict.values())\n\n# YOUR CODE HERE\nraise NotImplementedError()\n\ndf_teachers_raw"
   },
   "outputs": [],
   "source": [
    "# Bennen Sie die Mermale des DataFrames 'df_teachers_raw' entsprechend des oben genannten Schemas um\n",
    "\n",
    "# falls Ihnen eine dieser beiden Datenstrukturen behilflich ist, dürfen Sie sie gerne verwenden.\n",
    "col_names_dict = {\"C-SJAHR-0\": \"Schuljahr\",\n",
    "                  \"C-BEZ17L-0\": \"Pol. Bezirk\",\n",
    "                  \"F-GEW1-0\": \"Anzahl Lehrpersonen\",\n",
    "                  \"F-GEW2-0\": \"Vollzeitäquivalente\"}\n",
    "col_names = list(col_names_dict.values())\n",
    "\n",
    "df_teachers_raw = df_teachers_raw.rename(columns=col_names_dict)"
   ]
  },
  {
   "cell_type": "code",
   "execution_count": 30,
   "id": "bab8328b-964a-444a-b6a9-15980e04a9aa",
   "metadata": {
    "deletable": false,
    "editable": false,
    "nbgrader": {
     "cell_type": "code",
     "checksum": "6f1f6065ddfd2f270d085ce77105b671",
     "grade": true,
     "grade_id": "cell-4548c01ed15a8a54",
     "locked": true,
     "points": 0.5,
     "schema_version": 3,
     "solution": false,
     "task": false
    }
   },
   "outputs": [],
   "source": [
    "assert sorted(df_teachers_raw.columns) == ['Anzahl Lehrpersonen', 'Pol. Bezirk', 'Schuljahr', 'Vollzeitäquivalente'], \\\n",
    "        f'Die Merkmalsnamen scheinen nicht zu stimmen: {sorted(df_teachers_raw.columns)}'\n",
    "\n"
   ]
  },
  {
   "cell_type": "code",
   "execution_count": 31,
   "id": "fb3bb1b2-79f4-47ba-80d2-75c5b4e07313",
   "metadata": {
    "deletable": false,
    "editable": false,
    "nbgrader": {
     "cell_type": "code",
     "checksum": "509106343010f734a02414de0f45cd33",
     "grade": false,
     "grade_id": "cell-6399fcf39f5901b5",
     "locked": true,
     "schema_version": 3,
     "solution": false,
     "task": false
    }
   },
   "outputs": [
    {
     "name": "stdout",
     "output_type": "stream",
     "text": [
      "<class 'pandas.core.frame.DataFrame'>\n",
      "RangeIndex: 930 entries, 0 to 929\n",
      "Data columns (total 4 columns):\n",
      " #   Column               Non-Null Count  Dtype \n",
      "---  ------               --------------  ----- \n",
      " 0   Schuljahr            930 non-null    object\n",
      " 1   Pol. Bezirk          930 non-null    object\n",
      " 2   Anzahl Lehrpersonen  930 non-null    int64 \n",
      " 3   Vollzeitäquivalente  930 non-null    int64 \n",
      "dtypes: int64(2), object(2)\n",
      "memory usage: 29.2+ KB\n"
     ]
    }
   ],
   "source": [
    "df_teachers_raw.info()"
   ]
  },
  {
   "cell_type": "markdown",
   "id": "738160c3-6fb2-4892-a538-4da5d0e2b320",
   "metadata": {
    "deletable": false,
    "editable": false,
    "nbgrader": {
     "cell_type": "markdown",
     "checksum": "e20688a8b8f81f80faff337e76c96a32",
     "grade": false,
     "grade_id": "cell-8bf30e992cad965e",
     "locked": true,
     "schema_version": 3,
     "solution": false,
     "task": false
    }
   },
   "source": [
    "### Jahreszahlen und Bundesländer extrahieren\n",
    "\n",
    "Als nächstes nehmen wir die Werte des Merkmals __Schuljahr__ in Angriff und beginnen aus der Bezeichnung der politischen Bezirke das __Bundesland__ zu extrahieren. \n",
    "\n",
    "__Schuljahr:__\n",
    "Eigentlich stehen die Werte für Schuljahre wie 2015/16, 2020/21, etc. Wir hätten hier jedoch gerne Zahlen (Integer), und bezeichnen daher das Schuljahr 20x/(x+1) als 20x - also z.B. 2015/16 als 2015. \n",
    "\n",
    "__Bundesland:__\n",
    "Die pol. Bezirke sind nach dem Schema _BEZ17L-xyz_ bezeichnet, wobei _xzy_ eine dreistellige Nummer ist. Aus dieser Nummer lässt sich das Bundesland ablesen: Bezirke mit Nummern 100-199 sind im Burgenland, 200-299 Kärnten, usw. \n",
    "\n",
    "In beiden Fällen ist unser Vorgehen dafür am Beginn einmal gleich: Wir extrahieren die interessanten Teilstrings (Zahlen) aus den Werten, speichern diese in eigenen Merkmalen (Spalten), und wandeln diese in Integer um.\n",
    "\n",
    "Wie bereits angekündigt, gehen wir dabei langsam - Schritt für Schritt - vor:"
   ]
  },
  {
   "cell_type": "code",
   "execution_count": 32,
   "id": "7031aff7-193e-4a34-ac56-74529c3b1fe7",
   "metadata": {
    "deletable": false,
    "nbgrader": {
     "cell_type": "code",
     "checksum": "7f94473126c0fc78c0ccb23b9f6ce5b0",
     "grade": false,
     "grade_id": "cell-0c66f8df0b36043e",
     "locked": false,
     "schema_version": 3,
     "solution": true,
     "task": false
    },
    "revert": "# Extrahieren Sie aus dem Merkmal \"Schuljahr\" die Jahreszahl (letzten vier Stellen des Strings)\n# und aus dem Mermal \"Pol. Bezirk\" die Bezirksnummer (letzten drei Stellen des Strings)\n# Speichern Sie die Jahreszahl (als String) in einem Merkmal \"SJahr\" und \n# die Bezirksnummer (als String) in einem Merkmal \"BLand\".\n# (Die zusätzlichen Merkmale sollen zum DataFrame 'df_teachers_raw' hinzugefügt werden)\n#\n# Die Funktionen extract_year und extract_blnr extrahieren aus einem String die jeweils letzten \n# vier bzw. drei Werte (Aufruf extract_year('SJAHR-2015') gibt '2015') und können zur Lösung \n# der Aufgabe verwendet werden.\n\nextract_year = lambda val: val[-4:]\nextract_blnr = lambda val: val[-3:]\n\n# YOUR CODE HERE\nraise NotImplementedError()\n\ndf_teachers_raw"
   },
   "outputs": [
    {
     "data": {
      "text/html": [
       "<div>\n",
       "<style scoped>\n",
       "    .dataframe tbody tr th:only-of-type {\n",
       "        vertical-align: middle;\n",
       "    }\n",
       "\n",
       "    .dataframe tbody tr th {\n",
       "        vertical-align: top;\n",
       "    }\n",
       "\n",
       "    .dataframe thead th {\n",
       "        text-align: right;\n",
       "    }\n",
       "</style>\n",
       "<table border=\"1\" class=\"dataframe\">\n",
       "  <thead>\n",
       "    <tr style=\"text-align: right;\">\n",
       "      <th></th>\n",
       "      <th>Schuljahr</th>\n",
       "      <th>Pol. Bezirk</th>\n",
       "      <th>Anzahl Lehrpersonen</th>\n",
       "      <th>Vollzeitäquivalente</th>\n",
       "      <th>SJahr</th>\n",
       "      <th>BLand</th>\n",
       "    </tr>\n",
       "  </thead>\n",
       "  <tbody>\n",
       "    <tr>\n",
       "      <th>0</th>\n",
       "      <td>SJAHR-2015</td>\n",
       "      <td>BEZ17L-101</td>\n",
       "      <td>680</td>\n",
       "      <td>599</td>\n",
       "      <td>2015</td>\n",
       "      <td>101</td>\n",
       "    </tr>\n",
       "    <tr>\n",
       "      <th>1</th>\n",
       "      <td>SJAHR-2015</td>\n",
       "      <td>BEZ17L-102</td>\n",
       "      <td>32</td>\n",
       "      <td>31</td>\n",
       "      <td>2015</td>\n",
       "      <td>102</td>\n",
       "    </tr>\n",
       "    <tr>\n",
       "      <th>2</th>\n",
       "      <td>SJAHR-2015</td>\n",
       "      <td>BEZ17L-103</td>\n",
       "      <td>249</td>\n",
       "      <td>218</td>\n",
       "      <td>2015</td>\n",
       "      <td>103</td>\n",
       "    </tr>\n",
       "    <tr>\n",
       "      <th>3</th>\n",
       "      <td>SJAHR-2015</td>\n",
       "      <td>BEZ17L-104</td>\n",
       "      <td>350</td>\n",
       "      <td>315</td>\n",
       "      <td>2015</td>\n",
       "      <td>104</td>\n",
       "    </tr>\n",
       "    <tr>\n",
       "      <th>4</th>\n",
       "      <td>SJAHR-2015</td>\n",
       "      <td>BEZ17L-105</td>\n",
       "      <td>175</td>\n",
       "      <td>158</td>\n",
       "      <td>2015</td>\n",
       "      <td>105</td>\n",
       "    </tr>\n",
       "  </tbody>\n",
       "</table>\n",
       "</div>"
      ],
      "text/plain": [
       "    Schuljahr Pol. Bezirk  Anzahl Lehrpersonen  Vollzeitäquivalente SJahr  \\\n",
       "0  SJAHR-2015  BEZ17L-101                  680                  599  2015   \n",
       "1  SJAHR-2015  BEZ17L-102                   32                   31  2015   \n",
       "2  SJAHR-2015  BEZ17L-103                  249                  218  2015   \n",
       "3  SJAHR-2015  BEZ17L-104                  350                  315  2015   \n",
       "4  SJAHR-2015  BEZ17L-105                  175                  158  2015   \n",
       "\n",
       "  BLand  \n",
       "0   101  \n",
       "1   102  \n",
       "2   103  \n",
       "3   104  \n",
       "4   105  "
      ]
     },
     "execution_count": 32,
     "metadata": {},
     "output_type": "execute_result"
    }
   ],
   "source": [
    "# Extrahieren Sie aus dem Merkmal \"Schuljahr\" die Jahreszahl (letzten vier Stellen des Strings)\n",
    "# und aus dem Mermal \"Pol. Bezirk\" die Bezirksnummer (letzten drei Stellen des Strings)\n",
    "# Speichern Sie die Jahreszahl (als String) in einem Merkmal \"SJahr\" und \n",
    "# die Bezirksnummer (als String) in einem Merkmal \"BLand\".\n",
    "# (Die zusätzlichen Merkmale sollen zum DataFrame 'df_teachers_raw' hinzugefügt werden)\n",
    "#\n",
    "# Die Funktionen extract_year und extract_blnr extrahieren aus einem String die jeweils letzten \n",
    "# vier bzw. drei Werte (Aufruf extract_year('SJAHR-2015') gibt '2015') und können zur Lösung \n",
    "# der Aufgabe verwendet werden.\n",
    "\n",
    "extract_year = lambda val: val[-4:]\n",
    "extract_blnr = lambda val: val[-3:]\n",
    "\n",
    "df_teachers_raw[\"SJahr\"] = df_teachers_raw[\"Schuljahr\"].apply(extract_year)\n",
    "df_teachers_raw[\"BLand\"] = df_teachers_raw[\"Pol. Bezirk\"].apply(extract_blnr)\n",
    "\n",
    "df_teachers_raw.head()"
   ]
  },
  {
   "cell_type": "code",
   "execution_count": 33,
   "id": "54bc7c95-9b2d-4f00-b42d-e75619854f79",
   "metadata": {
    "deletable": false,
    "editable": false,
    "nbgrader": {
     "cell_type": "code",
     "checksum": "10d8ed0215ed497352d691568392cf0d",
     "grade": true,
     "grade_id": "cell-c69ea7d5099f6435",
     "locked": true,
     "points": 1,
     "schema_version": 3,
     "solution": false,
     "task": false
    }
   },
   "outputs": [],
   "source": [
    "assert len(df_teachers_raw.index) == 930, f'Die Anzahl der Einträge im DataFrame hätte sich nicht ändern sollen: {len(df_teachers_raw)}'\n",
    "assert sorted([c for c in df_teachers_raw.columns]) == ['Anzahl Lehrpersonen', 'BLand', 'Pol. Bezirk', 'SJahr', 'Schuljahr', 'Vollzeitäquivalente'], \\\n",
    "        f'Die Merkmalsnamen des DataFrames sind falsch: {sorted([c for c in df_teachers_raw.columns])}'\n",
    "\n",
    "assert df_teachers_raw[\"SJahr\"].dtype == object, f'Daten in \"SJahr\" sollten Strings sein: {df_teachers_raw[\"SJahr\"].dtype}'\n",
    "assert df_teachers_raw[\"BLand\"].dtype == object, f'Daten in \"BLand\" sollten Strings sein: {df_teachers_raw[\"BLand\"].dtype}'\n",
    "\n",
    "assert df_teachers_raw.loc[0, \"SJahr\"] == '2015', f'Jahr nicht korrekt extrahiert?: {df_teachers_raw.loc[0, \"SJahr\"]}'\n",
    "assert df_teachers_raw.loc[0, \"BLand\"] == '101', f'Bezirkscode nicht korrekt extrahiert?: {df_teachers_raw.loc[0, \"BLand\"]}'\n"
   ]
  },
  {
   "cell_type": "markdown",
   "id": "8802815d-c616-4c0d-9587-a0bd3dc4169a",
   "metadata": {
    "deletable": false,
    "editable": false,
    "nbgrader": {
     "cell_type": "markdown",
     "checksum": "af01547ff1b07fbed002214fb71afe8a",
     "grade": false,
     "grade_id": "cell-abe0024d69c76037",
     "locked": true,
     "schema_version": 3,
     "solution": false,
     "task": false
    }
   },
   "source": [
    "Mit den richtigen Werten (als Strings) in den Merkmalen \"BLand\", \"SJahr\" wandeln wir diese nun in numerische Werte um.\n",
    "\n",
    "_Hinweis:_ Hier kann die Methode ```to_numeric()``` der DataFrames hilfreich sein [API-Referenz](https://pandas.pydata.org/docs/reference/api/pandas.to_numeric.html)."
   ]
  },
  {
   "cell_type": "code",
   "execution_count": 34,
   "id": "f7f79dea-0990-452b-8180-4f519dbcb08a",
   "metadata": {
    "deletable": false,
    "nbgrader": {
     "cell_type": "code",
     "checksum": "5d1147f945c3219906a1e6c8e53c5c0c",
     "grade": false,
     "grade_id": "cell-274f80e5be0457f7",
     "locked": false,
     "schema_version": 3,
     "solution": true,
     "task": false
    },
    "revert": "# Wandeln Sie die Werte der Merkmale \"BLand\" und \"SJahr\" in Zahlen (Integer) um.\n# Verändern Sie direkt die entsprechenden Merkmale in 'df_teachers_raw'. \n# Es sollen keine neuen Merkmale hinzugefügt werden, und auch keine der anderen \n# Merkmale verändert werden.\n\n# YOUR CODE HERE\nraise NotImplementedError()\n\nprint(df_teachers_raw.info())\ndf_teachers_raw"
   },
   "outputs": [
    {
     "name": "stdout",
     "output_type": "stream",
     "text": [
      "<class 'pandas.core.frame.DataFrame'>\n",
      "RangeIndex: 930 entries, 0 to 929\n",
      "Data columns (total 6 columns):\n",
      " #   Column               Non-Null Count  Dtype \n",
      "---  ------               --------------  ----- \n",
      " 0   Schuljahr            930 non-null    object\n",
      " 1   Pol. Bezirk          930 non-null    object\n",
      " 2   Anzahl Lehrpersonen  930 non-null    int64 \n",
      " 3   Vollzeitäquivalente  930 non-null    int64 \n",
      " 4   SJahr                930 non-null    int64 \n",
      " 5   BLand                930 non-null    int64 \n",
      "dtypes: int64(4), object(2)\n",
      "memory usage: 43.7+ KB\n",
      "None\n"
     ]
    }
   ],
   "source": [
    "# Wandeln Sie die Werte der Merkmale \"BLand\" und \"SJahr\" in Zahlen (Integer) um.\n",
    "# Verändern Sie direkt die entsprechenden Merkmale in 'df_teachers_raw'. \n",
    "# Es sollen keine neuen Merkmale hinzugefügt werden, und auch keine der anderen \n",
    "# Merkmale verändert werden.\n",
    "\n",
    "df_teachers_raw[\"SJahr\"] = pd.to_numeric(df_teachers_raw[\"SJahr\"])\n",
    "df_teachers_raw[\"BLand\"] = pd.to_numeric(df_teachers_raw[\"BLand\"])\n",
    "\n",
    "print(df_teachers_raw.info())"
   ]
  },
  {
   "cell_type": "code",
   "execution_count": 35,
   "id": "18e76c68-7cf9-4aa8-ac81-f8a57c8cb672",
   "metadata": {
    "deletable": false,
    "editable": false,
    "nbgrader": {
     "cell_type": "code",
     "checksum": "35851d2c5a693481a18317215eceea30",
     "grade": true,
     "grade_id": "cell-9e9963480ee40ff1",
     "locked": true,
     "points": 0.25,
     "schema_version": 3,
     "solution": false,
     "task": false
    }
   },
   "outputs": [],
   "source": [
    "assert len(df_teachers_raw.index) == 930, f'Die Anzahl der Einträge im DataFrame hätte sich nicht ändern sollen: {len(df_teachers_raw)}'\n",
    "assert sorted([c for c in df_teachers_raw.columns]) == ['Anzahl Lehrpersonen', 'BLand', 'Pol. Bezirk', 'SJahr', 'Schuljahr', 'Vollzeitäquivalente'], \\\n",
    "        f'Die Merkmalsnamen hätten sich nicht ändern sollen: {sorted([c for c in df_teachers_raw.columns])}'\n",
    "\n",
    "assert df_teachers_raw[\"SJahr\"].dtype == np.int64, f'Daten in \"SJahr\" sollten Integer sein: {df_teachers_raw[\"SJahr\"].dtype}'\n",
    "assert df_teachers_raw[\"BLand\"].dtype == np.int64, f'Daten in \"BLand\" sollten Integer sein: {df_teachers_raw[\"BLand\"].dtype}'\n",
    "\n",
    "assert df_teachers_raw.loc[0, \"SJahr\"] == 2015, f'Probleme beim Umwandeln des Schuljahres?: {df_teachers_raw.loc[0, \"SJahr\"]}'\n",
    "assert df_teachers_raw.loc[0, \"BLand\"] == 101, f'Probleme beim Umwandeln des Bezirkscodes?: {df_teachers_raw.loc[0, \"BLand\"]}'\n"
   ]
  },
  {
   "cell_type": "markdown",
   "id": "7f84831f-f7b8-4aed-ab35-5b50935e650d",
   "metadata": {
    "deletable": false,
    "editable": false,
    "nbgrader": {
     "cell_type": "markdown",
     "checksum": "b66fc28a91229425138a49f07d48a1fb",
     "grade": false,
     "grade_id": "cell-7b1668e58e2cf8e2",
     "locked": true,
     "schema_version": 3,
     "solution": false,
     "task": false
    }
   },
   "source": [
    "Wir verwenden nun die Werte in __BLand__ um ein neues Merkmal __Bundesland__ einzuführen, welches den Namen des Bundeslandes, in dem der Bezirk liegt, enthält.\n",
    "\n",
    "Dies lässt sich auf verschiedene Arten und Weisen bewerkstelligen. Wir nützen aus, dass die Bezirksnummern nach Bundesland geordnet sind und üben das Einteilen von Werten in Kategorien mittels ```pd.cut```:\n",
    "\n",
    "Wir definieren die Kategorien basierend auf den Bezirksnummern als:\n",
    "* 100-199: Burgenland\n",
    "* 200-299: Kärnten\n",
    "* 300-399: Niederösterreich\n",
    "* 400-499: Oberösterreich\n",
    "* 500-599: Salzburg\n",
    "* 600-699: Steiermark\n",
    "* 700-799: Tirol\n",
    "* 800-899: Vorarlberg\n",
    "* 900-999: Wien\n"
   ]
  },
  {
   "cell_type": "code",
   "execution_count": 36,
   "id": "1324f448-8638-48ff-9e92-d2724dbaac74",
   "metadata": {
    "deletable": false,
    "nbgrader": {
     "cell_type": "code",
     "checksum": "2cdd9f113914746263e173e18ccdcdca",
     "grade": false,
     "grade_id": "cell-1d6bbce7d26b9942",
     "locked": false,
     "schema_version": 3,
     "solution": true,
     "task": false
    },
    "revert": "# Fügen Sie zum DataFrame 'df_teachers_raw' ein Merkmal \"Bundesland\" hinzu, \n# welches mittels \"pd.cut* das zum jeweiligen Eintrag gehörige Bundesland\n# enthält.\n\nbl_map = {100: 'Burgenland',\n          200: 'Kärnten',\n          300: 'Niederösterreich',\n          400: 'Oberösterreich',\n          500: 'Salzburg',\n          600: 'Steiermark',\n          700: 'Tirol',\n          800: 'Vorarlberg',\n          900: 'Wien'}\n\n# YOUR CODE HERE\nraise NotImplementedError()\n\nprint(df_teachers_raw.info())\ndf_teachers_raw"
   },
   "outputs": [
    {
     "name": "stdout",
     "output_type": "stream",
     "text": [
      "<class 'pandas.core.frame.DataFrame'>\n",
      "RangeIndex: 930 entries, 0 to 929\n",
      "Data columns (total 7 columns):\n",
      " #   Column               Non-Null Count  Dtype   \n",
      "---  ------               --------------  -----   \n",
      " 0   Schuljahr            930 non-null    object  \n",
      " 1   Pol. Bezirk          930 non-null    object  \n",
      " 2   Anzahl Lehrpersonen  930 non-null    int64   \n",
      " 3   Vollzeitäquivalente  930 non-null    int64   \n",
      " 4   SJahr                930 non-null    int64   \n",
      " 5   BLand                930 non-null    int64   \n",
      " 6   Bundesland           930 non-null    category\n",
      "dtypes: category(1), int64(4), object(2)\n",
      "memory usage: 45.0+ KB\n",
      "None\n"
     ]
    },
    {
     "data": {
      "text/html": [
       "<div>\n",
       "<style scoped>\n",
       "    .dataframe tbody tr th:only-of-type {\n",
       "        vertical-align: middle;\n",
       "    }\n",
       "\n",
       "    .dataframe tbody tr th {\n",
       "        vertical-align: top;\n",
       "    }\n",
       "\n",
       "    .dataframe thead th {\n",
       "        text-align: right;\n",
       "    }\n",
       "</style>\n",
       "<table border=\"1\" class=\"dataframe\">\n",
       "  <thead>\n",
       "    <tr style=\"text-align: right;\">\n",
       "      <th></th>\n",
       "      <th>Schuljahr</th>\n",
       "      <th>Pol. Bezirk</th>\n",
       "      <th>Anzahl Lehrpersonen</th>\n",
       "      <th>Vollzeitäquivalente</th>\n",
       "      <th>SJahr</th>\n",
       "      <th>BLand</th>\n",
       "      <th>Bundesland</th>\n",
       "    </tr>\n",
       "  </thead>\n",
       "  <tbody>\n",
       "    <tr>\n",
       "      <th>0</th>\n",
       "      <td>SJAHR-2015</td>\n",
       "      <td>BEZ17L-101</td>\n",
       "      <td>680</td>\n",
       "      <td>599</td>\n",
       "      <td>2015</td>\n",
       "      <td>101</td>\n",
       "      <td>Burgenland</td>\n",
       "    </tr>\n",
       "    <tr>\n",
       "      <th>1</th>\n",
       "      <td>SJAHR-2015</td>\n",
       "      <td>BEZ17L-102</td>\n",
       "      <td>32</td>\n",
       "      <td>31</td>\n",
       "      <td>2015</td>\n",
       "      <td>102</td>\n",
       "      <td>Burgenland</td>\n",
       "    </tr>\n",
       "    <tr>\n",
       "      <th>2</th>\n",
       "      <td>SJAHR-2015</td>\n",
       "      <td>BEZ17L-103</td>\n",
       "      <td>249</td>\n",
       "      <td>218</td>\n",
       "      <td>2015</td>\n",
       "      <td>103</td>\n",
       "      <td>Burgenland</td>\n",
       "    </tr>\n",
       "    <tr>\n",
       "      <th>3</th>\n",
       "      <td>SJAHR-2015</td>\n",
       "      <td>BEZ17L-104</td>\n",
       "      <td>350</td>\n",
       "      <td>315</td>\n",
       "      <td>2015</td>\n",
       "      <td>104</td>\n",
       "      <td>Burgenland</td>\n",
       "    </tr>\n",
       "    <tr>\n",
       "      <th>4</th>\n",
       "      <td>SJAHR-2015</td>\n",
       "      <td>BEZ17L-105</td>\n",
       "      <td>175</td>\n",
       "      <td>158</td>\n",
       "      <td>2015</td>\n",
       "      <td>105</td>\n",
       "      <td>Burgenland</td>\n",
       "    </tr>\n",
       "  </tbody>\n",
       "</table>\n",
       "</div>"
      ],
      "text/plain": [
       "    Schuljahr Pol. Bezirk  Anzahl Lehrpersonen  Vollzeitäquivalente  SJahr  \\\n",
       "0  SJAHR-2015  BEZ17L-101                  680                  599   2015   \n",
       "1  SJAHR-2015  BEZ17L-102                   32                   31   2015   \n",
       "2  SJAHR-2015  BEZ17L-103                  249                  218   2015   \n",
       "3  SJAHR-2015  BEZ17L-104                  350                  315   2015   \n",
       "4  SJAHR-2015  BEZ17L-105                  175                  158   2015   \n",
       "\n",
       "   BLand  Bundesland  \n",
       "0    101  Burgenland  \n",
       "1    102  Burgenland  \n",
       "2    103  Burgenland  \n",
       "3    104  Burgenland  \n",
       "4    105  Burgenland  "
      ]
     },
     "execution_count": 36,
     "metadata": {},
     "output_type": "execute_result"
    }
   ],
   "source": [
    "# Fügen Sie zum DataFrame 'df_teachers_raw' ein Merkmal \"Bundesland\" hinzu, \n",
    "# welches mittels \"pd.cut* das zum jeweiligen Eintrag gehörige Bundesland\n",
    "# enthält.\n",
    "\n",
    "bl_map = {100: 'Burgenland',\n",
    "          200: 'Kärnten',\n",
    "          300: 'Niederösterreich',\n",
    "          400: 'Oberösterreich',\n",
    "          500: 'Salzburg',\n",
    "          600: 'Steiermark',\n",
    "          700: 'Tirol',\n",
    "          800: 'Vorarlberg',\n",
    "          900: 'Wien'}\n",
    "\n",
    "df_teachers_raw[\"Bundesland\"] = pd.cut(df_teachers_raw[\"BLand\"], right=False, bins=list(bl_map.keys())+[1000], labels=list(bl_map.values()))\n",
    "\n",
    "print(df_teachers_raw.info())\n",
    "\n",
    "df_teachers_raw.head()"
   ]
  },
  {
   "cell_type": "code",
   "execution_count": 37,
   "id": "d9f18fc5-3471-4ce4-92de-a5adf05dd23f",
   "metadata": {
    "deletable": false,
    "editable": false,
    "nbgrader": {
     "cell_type": "code",
     "checksum": "6e3a0a0da35f96d9051fe157192f2c11",
     "grade": true,
     "grade_id": "cell-05e4c649dbc14a2a",
     "locked": true,
     "points": 0.5,
     "schema_version": 3,
     "solution": false,
     "task": false
    }
   },
   "outputs": [],
   "source": [
    "assert len(df_teachers_raw.index) == 930, f'Die Anzahl der Einträge im DataFrame hätte sich nicht ändern sollen: {len(df_teachers_raw)}'\n",
    "assert sorted([c for c in df_teachers_raw.columns]) == ['Anzahl Lehrpersonen', 'BLand', 'Bundesland', 'Pol. Bezirk', 'SJahr', 'Schuljahr', 'Vollzeitäquivalente'], \\\n",
    "        f'Die Merkmalsnamen scheinen nicht zu stimmen: {sorted([c for c in df_teachers_raw.columns])}'\n",
    "\n",
    "assert df_teachers_raw[\"Bundesland\"].dtype == 'category', f'Daten in \"Bundesland\" sollten Category sein: {df_teachers_raw[\"Bundesland\"].dtype}'\n",
    "\n",
    "assert df_teachers_raw.loc[4, \"Bundesland\"] == 'Burgenland', f'Probleme beim Umwandeln des Bundeslandes?: {df_teachers_raw.loc[4, \"Bundesland\"]}'\n",
    "assert df_teachers_raw.loc[654, \"Bundesland\"] == 'Steiermark', f'Probleme beim Umwandeln des Bundeslandes?: {df_teachers_raw.loc[654, \"Bundesland\"]}'\n",
    "assert df_teachers_raw.loc[175, \"Bundesland\"] == 'Oberösterreich', f'Probleme beim Umwandeln des Bundeslandes?: {df_teachers_raw.loc[175, \"Bundesland\"]}'\n",
    "\n"
   ]
  },
  {
   "cell_type": "markdown",
   "id": "57dc97a9-6293-402c-8b8c-0f41bd3584a5",
   "metadata": {
    "deletable": false,
    "editable": false,
    "nbgrader": {
     "cell_type": "markdown",
     "checksum": "ccd64dda876f167fbd38a0720c920f9a",
     "grade": false,
     "grade_id": "cell-7900bf4540e4b904",
     "locked": true,
     "schema_version": 3,
     "solution": false,
     "task": false
    }
   },
   "source": [
    "Eine Kleinigkeit fällt uns bei der Betrachtung der Ausgabe von ```df_teachers_raw.info()``` auf: Der Datentyp des Merkmals __Bundesland__ ist ```category``` - es handelt sich hier also um einen kategorischen Datentyp. Das ist zwar zu erwarten - und im Allgemeinen möchte man bei einer Unterteilung in Kategorien das auch genau so haben - in unserem Fall würden wir die Bundesländernamen aber lieber als Strings interpretieren. Und wenn wir schon beim \"Aufräumen\" sind, nützen wir die Gelegenheit um die String-Werte in __Schuljahr__ mit den Integer-Werten in __SJahr__ zu überschreiben. \n",
    "\n",
    "__Hinweis:__ Zum Ändern des Datentyps eines Merkmals kann die Methode ```astype``` der Pandas DataFrames hilfreich sein ([Dokumentation](https://pandas.pydata.org/docs/reference/api/pandas.DataFrame.astype.html))."
   ]
  },
  {
   "cell_type": "code",
   "execution_count": 38,
   "id": "8c59a1d1-e770-4bf3-8544-c946aa8d124a",
   "metadata": {
    "deletable": false,
    "nbgrader": {
     "cell_type": "code",
     "checksum": "ff9bd4351e87fbd03025c4d8b6bce80f",
     "grade": false,
     "grade_id": "cell-fc541d9a42848309",
     "locked": false,
     "schema_version": 3,
     "solution": true,
     "task": false
    },
    "revert": "# Überschreiben Sie die Werte des Merkmals \"Schuljahr\" mit den Werten des Merkmals \"SJahr\",\n# und ändern Sie den Datentyp des Merkmals \"Bundesland\" auf Strings (str)\n\n# YOUR CODE HERE\nraise NotImplementedError()\n\nprint(df_teachers_raw.info())\ndf_teachers_raw"
   },
   "outputs": [
    {
     "name": "stdout",
     "output_type": "stream",
     "text": [
      "<class 'pandas.core.frame.DataFrame'>\n",
      "RangeIndex: 930 entries, 0 to 929\n",
      "Data columns (total 7 columns):\n",
      " #   Column               Non-Null Count  Dtype \n",
      "---  ------               --------------  ----- \n",
      " 0   Schuljahr            930 non-null    int64 \n",
      " 1   Pol. Bezirk          930 non-null    object\n",
      " 2   Anzahl Lehrpersonen  930 non-null    int64 \n",
      " 3   Vollzeitäquivalente  930 non-null    int64 \n",
      " 4   SJahr                930 non-null    int64 \n",
      " 5   BLand                930 non-null    int64 \n",
      " 6   Bundesland           930 non-null    object\n",
      "dtypes: int64(5), object(2)\n",
      "memory usage: 51.0+ KB\n",
      "None\n"
     ]
    },
    {
     "data": {
      "text/html": [
       "<div>\n",
       "<style scoped>\n",
       "    .dataframe tbody tr th:only-of-type {\n",
       "        vertical-align: middle;\n",
       "    }\n",
       "\n",
       "    .dataframe tbody tr th {\n",
       "        vertical-align: top;\n",
       "    }\n",
       "\n",
       "    .dataframe thead th {\n",
       "        text-align: right;\n",
       "    }\n",
       "</style>\n",
       "<table border=\"1\" class=\"dataframe\">\n",
       "  <thead>\n",
       "    <tr style=\"text-align: right;\">\n",
       "      <th></th>\n",
       "      <th>Schuljahr</th>\n",
       "      <th>Pol. Bezirk</th>\n",
       "      <th>Anzahl Lehrpersonen</th>\n",
       "      <th>Vollzeitäquivalente</th>\n",
       "      <th>SJahr</th>\n",
       "      <th>BLand</th>\n",
       "      <th>Bundesland</th>\n",
       "    </tr>\n",
       "  </thead>\n",
       "  <tbody>\n",
       "    <tr>\n",
       "      <th>0</th>\n",
       "      <td>2015</td>\n",
       "      <td>BEZ17L-101</td>\n",
       "      <td>680</td>\n",
       "      <td>599</td>\n",
       "      <td>2015</td>\n",
       "      <td>101</td>\n",
       "      <td>Burgenland</td>\n",
       "    </tr>\n",
       "    <tr>\n",
       "      <th>1</th>\n",
       "      <td>2015</td>\n",
       "      <td>BEZ17L-102</td>\n",
       "      <td>32</td>\n",
       "      <td>31</td>\n",
       "      <td>2015</td>\n",
       "      <td>102</td>\n",
       "      <td>Burgenland</td>\n",
       "    </tr>\n",
       "    <tr>\n",
       "      <th>2</th>\n",
       "      <td>2015</td>\n",
       "      <td>BEZ17L-103</td>\n",
       "      <td>249</td>\n",
       "      <td>218</td>\n",
       "      <td>2015</td>\n",
       "      <td>103</td>\n",
       "      <td>Burgenland</td>\n",
       "    </tr>\n",
       "    <tr>\n",
       "      <th>3</th>\n",
       "      <td>2015</td>\n",
       "      <td>BEZ17L-104</td>\n",
       "      <td>350</td>\n",
       "      <td>315</td>\n",
       "      <td>2015</td>\n",
       "      <td>104</td>\n",
       "      <td>Burgenland</td>\n",
       "    </tr>\n",
       "    <tr>\n",
       "      <th>4</th>\n",
       "      <td>2015</td>\n",
       "      <td>BEZ17L-105</td>\n",
       "      <td>175</td>\n",
       "      <td>158</td>\n",
       "      <td>2015</td>\n",
       "      <td>105</td>\n",
       "      <td>Burgenland</td>\n",
       "    </tr>\n",
       "  </tbody>\n",
       "</table>\n",
       "</div>"
      ],
      "text/plain": [
       "   Schuljahr Pol. Bezirk  Anzahl Lehrpersonen  Vollzeitäquivalente  SJahr  \\\n",
       "0       2015  BEZ17L-101                  680                  599   2015   \n",
       "1       2015  BEZ17L-102                   32                   31   2015   \n",
       "2       2015  BEZ17L-103                  249                  218   2015   \n",
       "3       2015  BEZ17L-104                  350                  315   2015   \n",
       "4       2015  BEZ17L-105                  175                  158   2015   \n",
       "\n",
       "   BLand  Bundesland  \n",
       "0    101  Burgenland  \n",
       "1    102  Burgenland  \n",
       "2    103  Burgenland  \n",
       "3    104  Burgenland  \n",
       "4    105  Burgenland  "
      ]
     },
     "execution_count": 38,
     "metadata": {},
     "output_type": "execute_result"
    }
   ],
   "source": [
    "# Überschreiben Sie die Werte des Merkmals \"Schuljahr\" mit den Werten des Merkmals \"SJahr\",\n",
    "# und ändern Sie den Datentyp des Merkmals \"Bundesland\" auf Strings (str)\n",
    "\n",
    "df_teachers_raw[\"Schuljahr\"] = df_teachers_raw[\"SJahr\"]\n",
    "df_teachers_raw[\"Bundesland\"] = df_teachers_raw[\"Bundesland\"].astype(str)\n",
    "\n",
    "print(df_teachers_raw.info())\n",
    "df_teachers_raw.head()"
   ]
  },
  {
   "cell_type": "code",
   "execution_count": 39,
   "id": "ee74181a-32e7-4e7f-87f1-899f7f2f6960",
   "metadata": {
    "deletable": false,
    "editable": false,
    "nbgrader": {
     "cell_type": "code",
     "checksum": "dc7f91514e9170ff572aff510cf27917",
     "grade": true,
     "grade_id": "cell-6a7ad93baa23a87b",
     "locked": true,
     "points": 0.25,
     "schema_version": 3,
     "solution": false,
     "task": false
    }
   },
   "outputs": [],
   "source": [
    "assert len(df_teachers_raw.index) == 930, f'Die Anzahl der Einträge im DataFrame hätte sich nicht ändern sollen: {len(df_teachers_raw)}'\n",
    "assert sorted([c for c in df_teachers_raw.columns]) == ['Anzahl Lehrpersonen', 'BLand', 'Bundesland', 'Pol. Bezirk', 'SJahr', 'Schuljahr', 'Vollzeitäquivalente'], \\\n",
    "        f'Die Anzahl und Namen der Merkmale hätte sich nicht ändern sollen: {sorted([c for c in df_teachers_raw.columns])}'\n",
    "\n",
    "assert df_teachers_raw[\"Bundesland\"].dtype == object, f'Daten in \"Bundesland\" sollten nun object sein: {df_teachers_raw[\"Bundesland\"].dtype}'\n",
    "assert df_teachers_raw[\"Schuljahr\"].dtype == np.int64, f'Daten in \"Schuljahr\" sollten nun Integer sein: {df_teachers_raw[\"Schuljahr\"].dtype}'\n",
    "\n",
    "assert (df_teachers_raw[\"Schuljahr\"] == df_teachers_raw[\"SJahr\"]).all(), f'\"Schuljahr\" scheint die die Kopien von \"SJahr\" zu enthalten.'\n",
    "\n"
   ]
  },
  {
   "cell_type": "markdown",
   "id": "36144603-1224-491f-8d11-39d9aa9320dc",
   "metadata": {
    "deletable": false,
    "editable": false,
    "nbgrader": {
     "cell_type": "markdown",
     "checksum": "665e782b5d0fa0c41f23f13858321667",
     "grade": false,
     "grade_id": "cell-e06a99fbeb1d4c2b",
     "locked": true,
     "schema_version": 3,
     "solution": false,
     "task": false
    }
   },
   "source": [
    "### Namen der politischen Bezirke einfügen\n",
    "\n",
    "Als letzten Schritt in der Aufbereitung der Daten ersetzen wir nun noch die Codes für die politischen Bezirke durch deren Namen. \n",
    "\n",
    "Die Namen der Bezirke finden sich in der Datei ```LehrpersonenSeit2015_PolBezirke.csv```. \n",
    "Anders als bei den Namen der Merkmalen werden wir dieses mal das Umbenennen nicht fest-kodieren, sondern wir werden die beiden Datensätze (unser DataFrame in ```df_teachers_raw``` und ```LehrpersonenSeit2015_PolBezirke.csv```) miteinander vereinen (```DataFrame.merge```), so dass wir in jeder Zeile die richtigen Werte stehen haben.\n"
   ]
  },
  {
   "cell_type": "code",
   "execution_count": 45,
   "id": "fc8352ec-ee44-4edb-ad67-f7dbb33df38b",
   "metadata": {
    "deletable": false,
    "nbgrader": {
     "cell_type": "code",
     "checksum": "136d2a15cbe0ee95cd58820ae922042a",
     "grade": false,
     "grade_id": "cell-fdb35c0fa12637b0",
     "locked": false,
     "schema_version": 3,
     "solution": true,
     "task": false
    },
    "revert": "# 1. Laden Sie die Datei 'LehrpersonenSeit2015_PolBezirke.csv' in ein neues DataFrame\n# 2. Vereinen Sie das 'df_teachers_raw' mit dem neuen DataFrame spaltenweise so, dass \n#       jede Zeile aus 'df_teachers_raw' mit der Zeile aus dem neuen DataFrame kombiniert wird,\n#       welche im Merkmal \"code\" den selben Wert wie 'df_teachers_raw' in \"Pol. Bezirk\"\n#    Lösen Sie die Aufgabe mittels DataFrame.merge()\n# 3. Speichern Sie eine Referenz auf das resultierende DataFrame in der Variablen 'df_teacher'\n# 4. Räumen Sie 'df_teacher' auf: \n#    - Das DataFrame soll nur die Merkmale \n#      \"Schuljahr\", \"Pol. Bezirk\", \"Anzahl Lehrpersonen\", \"Vollzeitäquivalente\", \"Bundesland\" \n#      enthalten, wobei \"Pol. Bezirk\" nun den Namen des Bezirks (Merkmal \"name\" in \n#      'LehrpersonenSeit2015_PolBezirke.csv') enthalten soll\n# 5. 'df_teachers_raw' soll unverändert bleiben\n#\n# Hinweis: Die Argumente left_on und right_on von DataFrame.merge() können hilfreich sein.\n\n\n# YOUR CODE HERE\nraise NotImplementedError()\n\ndf_teachers"
   },
   "outputs": [
    {
     "data": {
      "text/html": [
       "<div>\n",
       "<style scoped>\n",
       "    .dataframe tbody tr th:only-of-type {\n",
       "        vertical-align: middle;\n",
       "    }\n",
       "\n",
       "    .dataframe tbody tr th {\n",
       "        vertical-align: top;\n",
       "    }\n",
       "\n",
       "    .dataframe thead th {\n",
       "        text-align: right;\n",
       "    }\n",
       "</style>\n",
       "<table border=\"1\" class=\"dataframe\">\n",
       "  <thead>\n",
       "    <tr style=\"text-align: right;\">\n",
       "      <th></th>\n",
       "      <th>Schuljahr</th>\n",
       "      <th>Pol. Bezirk</th>\n",
       "      <th>Anzahl Lehrpersonen</th>\n",
       "      <th>Vollzeitäquivalente</th>\n",
       "      <th>Bundesland</th>\n",
       "    </tr>\n",
       "  </thead>\n",
       "  <tbody>\n",
       "    <tr>\n",
       "      <th>0</th>\n",
       "      <td>2015</td>\n",
       "      <td>Eisenstadt (Stadt) &lt;101&gt;</td>\n",
       "      <td>680</td>\n",
       "      <td>599</td>\n",
       "      <td>Burgenland</td>\n",
       "    </tr>\n",
       "    <tr>\n",
       "      <th>1</th>\n",
       "      <td>2015</td>\n",
       "      <td>Rust (Stadt) &lt;102&gt;</td>\n",
       "      <td>32</td>\n",
       "      <td>31</td>\n",
       "      <td>Burgenland</td>\n",
       "    </tr>\n",
       "    <tr>\n",
       "      <th>2</th>\n",
       "      <td>2015</td>\n",
       "      <td>Eisenstadt Umgebung &lt;103&gt;</td>\n",
       "      <td>249</td>\n",
       "      <td>218</td>\n",
       "      <td>Burgenland</td>\n",
       "    </tr>\n",
       "    <tr>\n",
       "      <th>3</th>\n",
       "      <td>2015</td>\n",
       "      <td>Güssing &lt;104&gt;</td>\n",
       "      <td>350</td>\n",
       "      <td>315</td>\n",
       "      <td>Burgenland</td>\n",
       "    </tr>\n",
       "    <tr>\n",
       "      <th>4</th>\n",
       "      <td>2015</td>\n",
       "      <td>Jennersdorf &lt;105&gt;</td>\n",
       "      <td>175</td>\n",
       "      <td>158</td>\n",
       "      <td>Burgenland</td>\n",
       "    </tr>\n",
       "  </tbody>\n",
       "</table>\n",
       "</div>"
      ],
      "text/plain": [
       "   Schuljahr                Pol. Bezirk  Anzahl Lehrpersonen  \\\n",
       "0       2015   Eisenstadt (Stadt) <101>                  680   \n",
       "1       2015         Rust (Stadt) <102>                   32   \n",
       "2       2015  Eisenstadt Umgebung <103>                  249   \n",
       "3       2015              Güssing <104>                  350   \n",
       "4       2015          Jennersdorf <105>                  175   \n",
       "\n",
       "   Vollzeitäquivalente  Bundesland  \n",
       "0                  599  Burgenland  \n",
       "1                   31  Burgenland  \n",
       "2                  218  Burgenland  \n",
       "3                  315  Burgenland  \n",
       "4                  158  Burgenland  "
      ]
     },
     "execution_count": 45,
     "metadata": {},
     "output_type": "execute_result"
    }
   ],
   "source": [
    "# 1. Laden Sie die Datei 'LehrpersonenSeit2015_PolBezirke.csv' in ein neues DataFrame\n",
    "# 2. Vereinen Sie das 'df_teachers_raw' mit dem neuen DataFrame spaltenweise so, dass \n",
    "#       jede Zeile aus 'df_teachers_raw' mit der Zeile aus dem neuen DataFrame kombiniert wird,\n",
    "#       welche im Merkmal \"code\" den selben Wert wie 'df_teachers_raw' in \"Pol. Bezirk\"\n",
    "#    Lösen Sie die Aufgabe mittels DataFrame.merge()\n",
    "# 3. Speichern Sie eine Referenz auf das resultierende DataFrame in der Variablen 'df_teacher'\n",
    "# 4. Räumen Sie 'df_teacher' auf: \n",
    "#    - Das DataFrame soll nur die Merkmale \n",
    "#      \"Schuljahr\", \"Pol. Bezirk\", \"Anzahl Lehrpersonen\", \"Vollzeitäquivalente\", \"Bundesland\" \n",
    "#      enthalten, wobei \"Pol. Bezirk\" nun den Namen des Bezirks (Merkmal \"name\" in \n",
    "#      'LehrpersonenSeit2015_PolBezirke.csv') enthalten soll\n",
    "# 5. 'df_teachers_raw' soll unverändert bleiben\n",
    "#\n",
    "# Hinweis: Die Argumente left_on und right_on von DataFrame.merge() können hilfreich sein.\n",
    "\n",
    "df_polBezirk = pd.read_csv('LehrpersonenSeit2015_PolBezirke.csv', delimiter=';')\n",
    "\n",
    "df_teachers = df_teachers_raw.merge(df_polBezirk, left_on='Pol. Bezirk', right_on='code', how='left')\n",
    "\n",
    "df_teachers[\"Pol. Bezirk\"] = df_teachers[\"name\"]\n",
    "\n",
    "df_teachers = df_teachers.drop(columns=['code', 'name', 'Unnamed: 2', 'en_name', 'de_desc', 'de_link', 'en_desc', 'en_link', 'de_syn', 'en_syn', 'SJahr', 'BLand'])\n",
    "\n",
    "df_teachers.head()"
   ]
  },
  {
   "cell_type": "code",
   "execution_count": 46,
   "id": "4c7b7af3-f1b6-4c86-94cb-23ea3b341f65",
   "metadata": {
    "deletable": false,
    "editable": false,
    "nbgrader": {
     "cell_type": "code",
     "checksum": "047148e967c8962a5474f29053fff3ff",
     "grade": true,
     "grade_id": "cell-2301c392aa837aa1",
     "locked": true,
     "points": 1,
     "schema_version": 3,
     "solution": false,
     "task": false
    }
   },
   "outputs": [],
   "source": [
    "assert len(df_teachers.index) == 930, f'Die Anzahl der Einträge im neuen DataFrame sollte unverändert sein: {len(df_teachers)}'\n",
    "assert len(df_teachers.columns) == 5, f'Die Anzahl der Merkmale in df_teachers ist nicht korrekt: {len(df_teachers.columns)}'\n",
    "assert sorted([c for c in df_teachers.columns]) == ['Anzahl Lehrpersonen', 'Bundesland', 'Pol. Bezirk', 'Schuljahr', 'Vollzeitäquivalente'], \\\n",
    "        f'Die Merkmale entsprechen nicht den Vorgaben: {sorted([c for c in df_teachers.columns])}'\n",
    "\n",
    "assert df_teachers[\"Pol. Bezirk\"].dtype == object, f'Daten in \"Pol. Bezirk\" sollten object sein: {df_teachers[\"Pol. Bezirk\"].dtype}'\n",
    "\n",
    "assert df_teachers.loc[4, \"Pol. Bezirk\"] == 'Jennersdorf <105>', f'Probleme beim Umwandeln des Bundeslandes?: {df_teachers.loc[4, \"Pol. Bezirk\"]}'\n",
    "assert df_teachers.loc[654, \"Pol. Bezirk\"] == 'Leibnitz <610>', f'Probleme beim Umwandeln des Bundeslandes?: {df_teachers.loc[654, \"Pol. Bezirk\"]}'\n",
    "assert df_teachers.loc[175, \"Pol. Bezirk\"] == 'Steyr Land <415>', f'Probleme beim Umwandeln des Bundeslandes?: {df_teachers.loc[175, \"Pol. Bezirk\"]}'\n",
    "\n"
   ]
  },
  {
   "cell_type": "markdown",
   "id": "c14d9e59-d7f8-4088-9fb2-81c9679d647f",
   "metadata": {
    "deletable": false,
    "editable": false,
    "nbgrader": {
     "cell_type": "markdown",
     "checksum": "3a86ffbc0d95c7ed0a7f15e63a5e30a6",
     "grade": false,
     "grade_id": "cell-0a87865f72741597",
     "locked": true,
     "schema_version": 3,
     "solution": false,
     "task": false
    }
   },
   "source": [
    "### Abfragen auf dem Datensatz\n",
    "\n",
    "Nachdem wir den Datensatz nun für uns verständlich aufbereitet haben, werden wir noch zwei Auswertungen darauf vornehmen, bevor wir das Übungsblatt abschließen."
   ]
  },
  {
   "cell_type": "code",
   "execution_count": 64,
   "id": "0d8f39e2-2b36-4751-afb8-5b2377603db6",
   "metadata": {
    "deletable": false,
    "nbgrader": {
     "cell_type": "code",
     "checksum": "0df7fc6fa1374eb06ea13395d46dbf9d",
     "grade": false,
     "grade_id": "cell-53c419ec2cc45c90",
     "locked": false,
     "schema_version": 3,
     "solution": true,
     "task": false
    },
    "revert": "# Erstellen Sie ein neues DataFrame, welche alle Einträge aus 'df_teachers' enthält, die entweder \n# weniger als 100, oder mehr als 4000 Lehrpersonen enthalten. \n# Speichern Sie eine Referenz auf das neue DataFrame in der Variablen 'df_result1'.\n\n# YOUR CODE HERE\nraise NotImplementedError()\n\ndf_result1"
   },
   "outputs": [
    {
     "data": {
      "text/html": [
       "<div>\n",
       "<style scoped>\n",
       "    .dataframe tbody tr th:only-of-type {\n",
       "        vertical-align: middle;\n",
       "    }\n",
       "\n",
       "    .dataframe tbody tr th {\n",
       "        vertical-align: top;\n",
       "    }\n",
       "\n",
       "    .dataframe thead th {\n",
       "        text-align: right;\n",
       "    }\n",
       "</style>\n",
       "<table border=\"1\" class=\"dataframe\">\n",
       "  <thead>\n",
       "    <tr style=\"text-align: right;\">\n",
       "      <th></th>\n",
       "      <th>Schuljahr</th>\n",
       "      <th>Pol. Bezirk</th>\n",
       "      <th>Anzahl Lehrpersonen</th>\n",
       "      <th>Vollzeitäquivalente</th>\n",
       "      <th>Bundesland</th>\n",
       "    </tr>\n",
       "  </thead>\n",
       "  <tbody>\n",
       "    <tr>\n",
       "      <th>1</th>\n",
       "      <td>2015</td>\n",
       "      <td>Rust (Stadt) &lt;102&gt;</td>\n",
       "      <td>32</td>\n",
       "      <td>31</td>\n",
       "      <td>Burgenland</td>\n",
       "    </tr>\n",
       "    <tr>\n",
       "      <th>44</th>\n",
       "      <td>2015</td>\n",
       "      <td>Stadt Linz &lt;401&gt;</td>\n",
       "      <td>4369</td>\n",
       "      <td>3655</td>\n",
       "      <td>Oberösterreich</td>\n",
       "    </tr>\n",
       "    <tr>\n",
       "      <th>68</th>\n",
       "      <td>2015</td>\n",
       "      <td>Graz (Stadt) &lt;601&gt;</td>\n",
       "      <td>4768</td>\n",
       "      <td>4154</td>\n",
       "      <td>Steiermark</td>\n",
       "    </tr>\n",
       "    <tr>\n",
       "      <th>118</th>\n",
       "      <td>2016</td>\n",
       "      <td>Rust (Stadt) &lt;102&gt;</td>\n",
       "      <td>29</td>\n",
       "      <td>28</td>\n",
       "      <td>Burgenland</td>\n",
       "    </tr>\n",
       "    <tr>\n",
       "      <th>161</th>\n",
       "      <td>2016</td>\n",
       "      <td>Stadt Linz &lt;401&gt;</td>\n",
       "      <td>4441</td>\n",
       "      <td>3730</td>\n",
       "      <td>Oberösterreich</td>\n",
       "    </tr>\n",
       "  </tbody>\n",
       "</table>\n",
       "</div>"
      ],
      "text/plain": [
       "     Schuljahr         Pol. Bezirk  Anzahl Lehrpersonen  Vollzeitäquivalente  \\\n",
       "1         2015  Rust (Stadt) <102>                   32                   31   \n",
       "44        2015    Stadt Linz <401>                 4369                 3655   \n",
       "68        2015  Graz (Stadt) <601>                 4768                 4154   \n",
       "118       2016  Rust (Stadt) <102>                   29                   28   \n",
       "161       2016    Stadt Linz <401>                 4441                 3730   \n",
       "\n",
       "         Bundesland  \n",
       "1        Burgenland  \n",
       "44   Oberösterreich  \n",
       "68       Steiermark  \n",
       "118      Burgenland  \n",
       "161  Oberösterreich  "
      ]
     },
     "execution_count": 64,
     "metadata": {},
     "output_type": "execute_result"
    }
   ],
   "source": [
    "# Erstellen Sie ein neues DataFrame, welche alle Einträge aus 'df_teachers' enthält, die entweder \n",
    "# weniger als 100, oder mehr als 4000 Lehrpersonen enthalten. \n",
    "# Speichern Sie eine Referenz auf das neue DataFrame in der Variablen 'df_result1'.\n",
    "\n",
    "df_result1 = df_teachers[(df_teachers[\"Anzahl Lehrpersonen\"] > 4000) | (df_teachers[\"Anzahl Lehrpersonen\"] < 100)]\n",
    "df_result1.head()"
   ]
  },
  {
   "cell_type": "code",
   "execution_count": 65,
   "id": "966590ba-7d79-4c82-9e88-ed291fefeff6",
   "metadata": {
    "deletable": false,
    "editable": false,
    "nbgrader": {
     "cell_type": "code",
     "checksum": "718303857f631bb0b540f3a7d92d25ba",
     "grade": true,
     "grade_id": "cell-d92bf656a4d2bc2d",
     "locked": true,
     "points": 0.5,
     "schema_version": 3,
     "solution": false,
     "task": false
    }
   },
   "outputs": [],
   "source": [
    "assert type(df_result1) == pd.core.frame.DataFrame, f'df_result1 kein pandas DataFrame {type(df_result1)}'\n",
    "assert len(df_result1.index) == 24, f'Die Anzahl der Ergebnisse stimmt nicht: {len(df_result1.index)}'\n",
    "assert len(df_result1.columns) == 5, f'Die Anzahl der Merkmale im Ergebnis stimmt nicht: {len(df_result1.columns)}'\n",
    "\n",
    "# so viel sei über das Ergebnis verraten\n",
    "resb = {'Burgenland', 'Oberösterreich', 'Steiermark'}\n",
    "assert len(df_result1[~df_result1[\"Bundesland\"].isin(resb)].index) == 0, \\\n",
    "        f'Ergebnis enthält unerwartete Einträge: {df_result1[~df_result1[\"Bundesland\"].isin(resb)]}'\n",
    "\n"
   ]
  },
  {
   "cell_type": "markdown",
   "id": "e2ec882f-5d5d-402f-a0ac-4df79dcd5708",
   "metadata": {
    "deletable": false,
    "editable": false,
    "nbgrader": {
     "cell_type": "markdown",
     "checksum": "601f20dc842aa6de2ac49d0c6aed7820",
     "grade": false,
     "grade_id": "cell-3928f30c58a46456",
     "locked": true,
     "schema_version": 3,
     "solution": false,
     "task": false
    }
   },
   "source": [
    "Und zum Abschluss erstellen wir noch eine Übersicht, in welchem Jahr es wie viele Vollzeitäquivalente in jedem Bundesland gab."
   ]
  },
  {
   "cell_type": "code",
   "execution_count": 67,
   "id": "48f6f944-c3b4-4f30-ab34-82710a4a854b",
   "metadata": {
    "deletable": false,
    "nbgrader": {
     "cell_type": "code",
     "checksum": "015451f2040e3e613ab4ee93d48568c5",
     "grade": false,
     "grade_id": "cell-b2cebd684c6f91f1",
     "locked": false,
     "schema_version": 3,
     "solution": true,
     "task": false
    },
    "revert": "# Erstellen Sie aus 'df_teachers' eine Pivot-Tabelle. \n# Diese soll ein Merkmal/eine Spalte für jedes Bundesland besitzen, \n# und eine Zeile für jedes Jahr.\n# Die Werte der Tabelle geben die Summe der Vollzeitäquivalente \n# im jeweiligen Bundesland und Jahr an.\n#\n# Speichern Sie eine Referenz auf das Ergebnis in df_result2\n\n\n# YOUR CODE HERE\nraise NotImplementedError()\n\ndf_result2"
   },
   "outputs": [
    {
     "data": {
      "text/html": [
       "<div>\n",
       "<style scoped>\n",
       "    .dataframe tbody tr th:only-of-type {\n",
       "        vertical-align: middle;\n",
       "    }\n",
       "\n",
       "    .dataframe tbody tr th {\n",
       "        vertical-align: top;\n",
       "    }\n",
       "\n",
       "    .dataframe thead th {\n",
       "        text-align: right;\n",
       "    }\n",
       "</style>\n",
       "<table border=\"1\" class=\"dataframe\">\n",
       "  <thead>\n",
       "    <tr style=\"text-align: right;\">\n",
       "      <th>Bundesland</th>\n",
       "      <th>Burgenland</th>\n",
       "      <th>Kärnten</th>\n",
       "      <th>Niederösterreich</th>\n",
       "      <th>Oberösterreich</th>\n",
       "      <th>Salzburg</th>\n",
       "      <th>Steiermark</th>\n",
       "      <th>Tirol</th>\n",
       "      <th>Vorarlberg</th>\n",
       "      <th>Wien</th>\n",
       "    </tr>\n",
       "    <tr>\n",
       "      <th>Schuljahr</th>\n",
       "      <th></th>\n",
       "      <th></th>\n",
       "      <th></th>\n",
       "      <th></th>\n",
       "      <th></th>\n",
       "      <th></th>\n",
       "      <th></th>\n",
       "      <th></th>\n",
       "      <th></th>\n",
       "    </tr>\n",
       "  </thead>\n",
       "  <tbody>\n",
       "    <tr>\n",
       "      <th>2018</th>\n",
       "      <td>3637</td>\n",
       "      <td>7473</td>\n",
       "      <td>19705</td>\n",
       "      <td>18697</td>\n",
       "      <td>7522</td>\n",
       "      <td>14094</td>\n",
       "      <td>9556</td>\n",
       "      <td>5616</td>\n",
       "      <td>23619</td>\n",
       "    </tr>\n",
       "    <tr>\n",
       "      <th>2019</th>\n",
       "      <td>3645</td>\n",
       "      <td>7276</td>\n",
       "      <td>19561</td>\n",
       "      <td>18482</td>\n",
       "      <td>7513</td>\n",
       "      <td>14152</td>\n",
       "      <td>9442</td>\n",
       "      <td>5594</td>\n",
       "      <td>23747</td>\n",
       "    </tr>\n",
       "    <tr>\n",
       "      <th>2020</th>\n",
       "      <td>3599</td>\n",
       "      <td>6970</td>\n",
       "      <td>19409</td>\n",
       "      <td>18378</td>\n",
       "      <td>7433</td>\n",
       "      <td>13989</td>\n",
       "      <td>9363</td>\n",
       "      <td>5520</td>\n",
       "      <td>23573</td>\n",
       "    </tr>\n",
       "    <tr>\n",
       "      <th>2021</th>\n",
       "      <td>3594</td>\n",
       "      <td>6945</td>\n",
       "      <td>19413</td>\n",
       "      <td>18593</td>\n",
       "      <td>7480</td>\n",
       "      <td>14391</td>\n",
       "      <td>9358</td>\n",
       "      <td>5500</td>\n",
       "      <td>23857</td>\n",
       "    </tr>\n",
       "    <tr>\n",
       "      <th>2022</th>\n",
       "      <td>3616</td>\n",
       "      <td>6940</td>\n",
       "      <td>19558</td>\n",
       "      <td>18723</td>\n",
       "      <td>7417</td>\n",
       "      <td>14339</td>\n",
       "      <td>9461</td>\n",
       "      <td>5240</td>\n",
       "      <td>23963</td>\n",
       "    </tr>\n",
       "  </tbody>\n",
       "</table>\n",
       "</div>"
      ],
      "text/plain": [
       "Bundesland  Burgenland  Kärnten  Niederösterreich  Oberösterreich  Salzburg  \\\n",
       "Schuljahr                                                                     \n",
       "2018              3637     7473             19705           18697      7522   \n",
       "2019              3645     7276             19561           18482      7513   \n",
       "2020              3599     6970             19409           18378      7433   \n",
       "2021              3594     6945             19413           18593      7480   \n",
       "2022              3616     6940             19558           18723      7417   \n",
       "\n",
       "Bundesland  Steiermark  Tirol  Vorarlberg   Wien  \n",
       "Schuljahr                                         \n",
       "2018             14094   9556        5616  23619  \n",
       "2019             14152   9442        5594  23747  \n",
       "2020             13989   9363        5520  23573  \n",
       "2021             14391   9358        5500  23857  \n",
       "2022             14339   9461        5240  23963  "
      ]
     },
     "execution_count": 67,
     "metadata": {},
     "output_type": "execute_result"
    }
   ],
   "source": [
    "# Erstellen Sie aus 'df_teachers' eine Pivot-Tabelle. \n",
    "# Diese soll ein Merkmal/eine Spalte für jedes Bundesland besitzen, \n",
    "# und eine Zeile für jedes Jahr.\n",
    "# Die Werte der Tabelle geben die Summe der Vollzeitäquivalente \n",
    "# im jeweiligen Bundesland und Jahr an.\n",
    "#\n",
    "# Speichern Sie eine Referenz auf das Ergebnis in df_result2\n",
    "\n",
    "df_result2 = df_teachers.pivot_table(values='Vollzeitäquivalente', \n",
    "                                     index='Schuljahr',             \n",
    "                                     columns='Bundesland',          \n",
    "                                     aggfunc='sum')  \n",
    "\n",
    "df_result2.tail()"
   ]
  },
  {
   "cell_type": "code",
   "execution_count": 68,
   "id": "08c79fad-d9b7-4bc1-9ec3-9e7a3b05d2ae",
   "metadata": {
    "deletable": false,
    "editable": false,
    "nbgrader": {
     "cell_type": "code",
     "checksum": "c1c222a5e3002e834102f41c6280b772",
     "grade": true,
     "grade_id": "cell-eabfa292391d8241",
     "locked": true,
     "points": 0.5,
     "schema_version": 3,
     "solution": false,
     "task": false
    }
   },
   "outputs": [],
   "source": [
    "assert type(df_result2) == pd.core.frame.DataFrame, f'df_result2 kein pandas DataFrame {type(df_result2)}'\n",
    "assert len(df_result2.index) == 8, f'Die Anzahl der Ergebnisse stimmt nicht: {len(df_result2.index)}'\n",
    "assert len(df_result2.columns) == 9, f'Die Anzahl der Merkmale im Ergebnis stimmt nicht: {len(df_result2.columns)}'\n",
    "\n",
    "# so viel sei über das Ergebnis verraten\n",
    "assert df_result2.loc[2017, \"Tirol\"] == 9601, f'Falsche Summe für Tirol 2017'\n",
    "assert df_result2.loc[2021, \"Wien\"] == 23857, f'Falsche Summe für Wien 2021'\n",
    "\n"
   ]
  },
  {
   "cell_type": "markdown",
   "id": "30ede571-4db2-4b60-b11b-d57b9abd510c",
   "metadata": {
    "deletable": false,
    "editable": false,
    "nbgrader": {
     "cell_type": "markdown",
     "checksum": "625babef7b2e85f41f777b630f920b6c",
     "grade": false,
     "grade_id": "cell-150f7f6eb33a3586",
     "locked": true,
     "schema_version": 3,
     "solution": false,
     "task": false
    }
   },
   "source": [
    "## Ende\n",
    "Damit haben Sie das 1. Übungsblatt fertig durchgearbeitet. Gratulation! :-)<br/> Bitte melden Sie sich bei Fragen, Problemen oder Unklarheiten rechtzeitig."
   ]
  },
  {
   "cell_type": "code",
   "execution_count": null,
   "id": "c8e56027-715d-4316-8c92-d51c8fab81ef",
   "metadata": {},
   "outputs": [],
   "source": []
  }
 ],
 "metadata": {
  "kernelspec": {
   "display_name": "Python 3 (ipykernel)",
   "language": "python",
   "name": "python3"
  },
  "language_info": {
   "codemirror_mode": {
    "name": "ipython",
    "version": 3
   },
   "file_extension": ".py",
   "mimetype": "text/x-python",
   "name": "python",
   "nbconvert_exporter": "python",
   "pygments_lexer": "ipython3",
   "version": "3.11.10"
  }
 },
 "nbformat": 4,
 "nbformat_minor": 5
}
